{
 "cells": [
  {
   "cell_type": "markdown",
   "metadata": {},
   "source": [
    "### Hadoop Streaming은 표준 입출력(stdio)를 제공하는 모든 언어 이용 가능\n",
    "#### 두 가지 요소가 정의되어야 함\n",
    "1. Map 기능이 정의된 실행 가능 Mapper 파일\n",
    "2. Reduce 기능이 정의된 실행 가능 Reducer 파일"
   ]
  },
  {
   "cell_type": "markdown",
   "metadata": {},
   "source": [
    "py hello.py?<br>\n",
    "chmod755 hello.py<br> \n",
    "(then) ./hello.py 가능"
   ]
  },
  {
   "cell_type": "markdown",
   "metadata": {},
   "source": [
    "## Python Map.py"
   ]
  },
  {
   "cell_type": "code",
   "execution_count": null,
   "metadata": {
    "collapsed": false
   },
   "outputs": [],
   "source": [
    "# !/home/hadoop/python/py\n",
    "import sys\n",
    "\n",
    "for line in sys.stdin:\n",
    "    line = line.strip()\n",
    "    words = line.split()\n",
    "    for word in words:\n",
    "        print '{0}\\t{1}'.format(word, 1)"
   ]
  },
  {
   "cell_type": "markdown",
   "metadata": {},
   "source": [
    "echo \"hi hi hi bye bye hi\" | mapper.py<br>\n",
    "hi 1 <br>\n",
    "hi 1 <br>\n",
    "hi 1 <br>\n",
    "bye 1 <br>\n",
    "bye 1 <br>\n",
    "hi 1 <br>"
   ]
  },
  {
   "cell_type": "markdown",
   "metadata": {},
   "source": [
    "echo \"hi hi hi bye bye hi\" | mapper.py | sort -k 1<br>\n",
    "bye 1 <br>\n",
    "bye 1 <br>\n",
    "hi 1 <br>\n",
    "hi 1 <br>\n",
    "hi 1 <br>\n",
    "hi 1 <br>"
   ]
  },
  {
   "cell_type": "markdown",
   "metadata": {},
   "source": [
    "## Python Reducer.py"
   ]
  },
  {
   "cell_type": "code",
   "execution_count": null,
   "metadata": {
    "collapsed": false
   },
   "outputs": [],
   "source": [
    "import sys\n",
    "\n",
    "current_word = None\n",
    "current_count = 0\n",
    "word = None\n",
    "\n",
    "for line in sys.stdin:\n",
    "    line = line.strip()\n",
    "    word, count = line.split('\\t',1)\n",
    "    count = int(count)\n",
    "    \n",
    "    # 기준 단어와 같다면 +1\n",
    "    if current_word == word: \n",
    "        current_count += count\n",
    "    else:\n",
    "        # 기존 단어가 null이 아니라면 M/R 결과 출력\n",
    "        if current_word:\n",
    "            print '{0}\\t{1}'.format(current_word, current_count)\n",
    "        else: # 새로운 기준 단어 설정\n",
    "            current_count = count\n",
    "            current_word = word\n",
    "        \n",
    "if current_word == word: #마지막 라인 처리용?\n",
    "    print '{0}\\t{1}'.format(current_word, current_count)"
   ]
  },
  {
   "cell_type": "markdown",
   "metadata": {},
   "source": [
    "echo \"hi hi hi bye bye hi\" | ./mapper.py | sort -k 1 | ./reducer.py<br>\n",
    "bye    2<br>\n",
    "hi     2\n"
   ]
  },
  {
   "cell_type": "markdown",
   "metadata": {},
   "source": [
    "### 조건\n",
    "1. HadoopStreaming에서 mapper/reducer는 실행가능한 쉘로 지정되어야 한다.\n",
    "    - [ok]Hadoop jar hadoop-streaming*.jar -mapper map.py -reducer reduce.py ...\n",
    "2. Python 스크립트는 어디에서든 접근 가능하도록 디렉토리 PATH를 설정\n",
    "    - hadoop jar hadoop-streaming-2.5.1.jar -input myInuptDirs -output myOutputDir -mapper /bin/cat -reducer /usr/bin/wc\n",
    "    \n",
    "    \n",
    "- Hadoop x.x의 HadoopStreaming의 위치\n",
    "    - $HADOOP_HOME/share/hadoop/tools/lib/hadoop-streaming-x.x.x.jar"
   ]
  },
  {
   "cell_type": "markdown",
   "metadata": {},
   "source": [
    "#### 사용예"
   ]
  },
  {
   "cell_type": "code",
   "execution_count": null,
   "metadata": {
    "collapsed": false
   },
   "outputs": [],
   "source": [
    "hadoop jar hadoop-streaming-2.5.1.jar \\\n",
    "-input alice -output wc_alice\n",
    "-mapper mapper.py -reducer reducer.py \\\n",
    "-file mapper.py -file reducer.py"
   ]
  },
  {
   "cell_type": "markdown",
   "metadata": {},
   "source": [
    "### mapper.py 수정"
   ]
  },
  {
   "cell_type": "code",
   "execution_count": null,
   "metadata": {
    "collapsed": true
   },
   "outputs": [],
   "source": [
    "import sys\n",
    "import re\n",
    "\n",
    "for line in sys.stdin:\n",
    "    line = line.strip()\n",
    "    line = re.sub('[{=.#/?:$\\'!,\"}]','',line) # 정규표현식, 특수문자 제거\n",
    "    words = line.split()\n",
    "    for word in words:\n",
    "        print('{0}\\t{1}'.format(word, 1))"
   ]
  },
  {
   "cell_type": "markdown",
   "metadata": {},
   "source": [
    "#### 후 다시 돌리면 특수문자 제거된 결과 나온다"
   ]
  },
  {
   "cell_type": "code",
   "execution_count": null,
   "metadata": {
    "collapsed": true
   },
   "outputs": [],
   "source": [
    "hadoop jar hadoop-streaming-2.5.1.jar \\\n",
    "-input alice -output wc_alice2\n",
    "-mapper mapper.py - reducer reducer.py \\\n",
    "-file mapper.py - file reducer.py"
   ]
  },
  {
   "cell_type": "markdown",
   "metadata": {},
   "source": [
    "### 기타"
   ]
  },
  {
   "cell_type": "markdown",
   "metadata": {},
   "source": [
    "Mapper.py"
   ]
  },
  {
   "cell_type": "code",
   "execution_count": 4,
   "metadata": {
    "collapsed": false,
    "scrolled": true
   },
   "outputs": [
    {
     "data": {
      "text/plain": [
       "'\\nimport sys\\nfor line in sys.stdin:\\n    line = line.strip()\\n    words = line.split()\\n    for word in words:\\n        print(\\'%s\\t%s\\' % (word, 1))\\n        \\necho \"foo foo quux labs foo bar quux\" | /home/hduser/mapper.py\\n'"
      ]
     },
     "execution_count": 4,
     "metadata": {},
     "output_type": "execute_result"
    }
   ],
   "source": [
    "import sys\n",
    "\n",
    "def mapper(text):\n",
    "    print(\"text is:\",text)\n",
    "    after_map=[]\n",
    "    for line in text.split():\n",
    "        line = line.strip()\n",
    "        words = line.split()\n",
    "        for word in words:\n",
    "            after_map.append((word,1))\n",
    "            print('%s\\t%s' % (word, 1))\n",
    "            \n",
    "    return after_map\n",
    "        \n",
    "\"\"\"\n",
    "import sys\n",
    "for line in sys.stdin:\n",
    "    line = line.strip()\n",
    "    words = line.split()\n",
    "    for word in words:\n",
    "        print('%s\\t%s' % (word, 1))\n",
    "        \n",
    "echo \"foo foo quux labs foo bar quux\" | /home/hduser/mapper.py\n",
    "\"\"\""
   ]
  },
  {
   "cell_type": "code",
   "execution_count": 5,
   "metadata": {
    "collapsed": false
   },
   "outputs": [
    {
     "ename": "NameError",
     "evalue": "name 'reducer' is not defined",
     "output_type": "error",
     "traceback": [
      "\u001b[0;31m---------------------------------------------------------------------------\u001b[0m",
      "\u001b[0;31mNameError\u001b[0m                                 Traceback (most recent call last)",
      "\u001b[0;32m<ipython-input-5-39d3c945ee88>\u001b[0m in \u001b[0;36m<module>\u001b[0;34m()\u001b[0m\n\u001b[0;32m----> 1\u001b[0;31m \u001b[0mreducer\u001b[0m\u001b[1;33m.\u001b[0m\u001b[0mpy\u001b[0m\u001b[1;33m\u001b[0m\u001b[0m\n\u001b[0m",
      "\u001b[0;31mNameError\u001b[0m: name 'reducer' is not defined"
     ]
    }
   ],
   "source": [
    "reducer.py"
   ]
  },
  {
   "cell_type": "code",
   "execution_count": 6,
   "metadata": {
    "collapsed": false
   },
   "outputs": [
    {
     "data": {
      "text/plain": [
       "'\\nfrom operator import itemgetter\\nimport sys\\ncurrent_word = None\\ncurrent_count = 0\\nword = None \\nfor line in sys.stdin:\\n    line = line.strip()\\n    word, count = line.split(\\'\\t\\',1)\\n    try:\\n        count = int(count)\\n    except valueError:\\n        continue\\n        \\n    if current_word == word:\\n        current_count += count\\n    else:\\n        if current_word:\\n            print(\\'%s\\t%s\\' % (current_word, current_count))\\n            \\n        current_count = count\\n        current_word = word\\n        \\n    if current_word == word:\\n        print(\\'%s\\t%s\\') % (current_word, current_count)\\n        \\necho \"foo foo quux labs foo bar quux\" | /home/hduser/mapper.py | sort -k1,1 | /home/hduser/reducer.py\\n'"
      ]
     },
     "execution_count": 6,
     "metadata": {},
     "output_type": "execute_result"
    }
   ],
   "source": [
    "from operator import itemgetter\n",
    "import sys\n",
    "\n",
    "def reducer(after_mapper):\n",
    "\n",
    "    current_word = None\n",
    "    current_count = 0\n",
    "    word = None \n",
    "    dic_result = {}    \n",
    "    \n",
    "    for line in after_mapper:\n",
    "        word, count = line\n",
    "        try:\n",
    "            count = int(count)\n",
    "        except valueError:\n",
    "            continue\n",
    "\n",
    "        if word in dic_result:\n",
    "            dic_result[word] += 1\n",
    "        else:\n",
    "            dic_result[word] = 1\n",
    "\n",
    "    return dic_result\n",
    "        \n",
    "\"\"\"\n",
    "from operator import itemgetter\n",
    "import sys\n",
    "current_word = None\n",
    "current_count = 0\n",
    "word = None \n",
    "for line in sys.stdin:\n",
    "    line = line.strip()\n",
    "    word, count = line.split('\\t',1)\n",
    "    try:\n",
    "        count = int(count)\n",
    "    except valueError:\n",
    "        continue\n",
    "        \n",
    "    if current_word == word:\n",
    "        current_count += count\n",
    "    else:\n",
    "        if current_word:\n",
    "            print('%s\\t%s' % (current_word, current_count))\n",
    "            \n",
    "        current_count = count\n",
    "        current_word = word\n",
    "        \n",
    "    if current_word == word:\n",
    "        print('%s\\t%s') % (current_word, current_count)\n",
    "        \n",
    "echo \"foo foo quux labs foo bar quux\" | /home/hduser/mapper.py | sort -k1,1 | /home/hduser/reducer.py\n",
    "\"\"\""
   ]
  },
  {
   "cell_type": "code",
   "execution_count": 7,
   "metadata": {
    "collapsed": false
   },
   "outputs": [
    {
     "data": {
      "text/plain": [
       "'foo foo quux labs foo bar quux'"
      ]
     },
     "execution_count": 7,
     "metadata": {},
     "output_type": "execute_result"
    }
   ],
   "source": [
    "text = \"foo foo quux labs foo bar quux\"\n",
    "text"
   ]
  },
  {
   "cell_type": "code",
   "execution_count": 8,
   "metadata": {
    "collapsed": false
   },
   "outputs": [
    {
     "name": "stdout",
     "output_type": "stream",
     "text": [
      "text is: foo foo quux labs foo bar quux\n",
      "foo\t1\n",
      "foo\t1\n",
      "quux\t1\n",
      "labs\t1\n",
      "foo\t1\n",
      "bar\t1\n",
      "quux\t1\n"
     ]
    }
   ],
   "source": [
    "after_map = mapper(text)"
   ]
  },
  {
   "cell_type": "code",
   "execution_count": 10,
   "metadata": {
    "collapsed": false,
    "scrolled": true
   },
   "outputs": [
    {
     "data": {
      "text/plain": [
       "{'bar': 1, 'foo': 3, 'labs': 1, 'quux': 2}"
      ]
     },
     "execution_count": 10,
     "metadata": {},
     "output_type": "execute_result"
    }
   ],
   "source": [
    "result = reducer(after_map)\n",
    "result"
   ]
  }
 ],
 "metadata": {
  "kernelspec": {
   "display_name": "Python 3",
   "language": "python",
   "name": "python3"
  },
  "language_info": {
   "codemirror_mode": {
    "name": "ipython",
    "version": 3
   },
   "file_extension": ".py",
   "mimetype": "text/x-python",
   "name": "python",
   "nbconvert_exporter": "python",
   "pygments_lexer": "ipython3",
   "version": "3.6.0"
  }
 },
 "nbformat": 4,
 "nbformat_minor": 2
}
