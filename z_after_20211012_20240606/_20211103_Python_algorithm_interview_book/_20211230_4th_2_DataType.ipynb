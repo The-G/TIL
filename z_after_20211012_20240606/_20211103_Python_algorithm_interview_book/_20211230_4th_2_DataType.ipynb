{
 "cells": [
  {
   "cell_type": "markdown",
   "id": "c6753a13",
   "metadata": {},
   "source": [
    "### 원시타입 "
   ]
  },
  {
   "cell_type": "markdown",
   "id": "865cdb32",
   "metadata": {},
   "source": [
    "- C나 자바 같은 대표적인 프로그래밍 언어들은 기본적으로 원시타입(Primitive Type)을 제공한다. \n",
    "- 원시타입은 메모리에 정확하게 타입 크기만큼의 공간을 할당하고 그 공간을 오로지 값으로 채워넣는다. <br>\n",
    "만약 배열이라면 물리 메모리(Physical Memory)에 자료형의 크기만큼 공간을 갖는 요소가 연속된 순서로 배치되는 형태가 된다. \n",
    "- 원시타입을 객체로 변환하면 여러가지 작업을 수행할 수 있게 된다. <br>\n",
    "대표적으로 문자로 변환한다든지, 16진수로 변환, Shifting 같은 비트 조작도 지원한다. 다만 이를 위한 여러가지 부가 정보가 추가되므로, 메모리 점유율이 늘언고 당연히 계산 속도 또한 감소한다. <br> \n",
    "bool 원시 타입은 단 1비트에 불과하다. 그런데 객체인 Boolean은 무려 128비트나 차지한다. 이처럼 객체는 편리하고 다양한 기능을 제공하기 위해 일정 부분 속도와 공간을 희생하게 된다. "
   ]
  },
  {
   "cell_type": "markdown",
   "id": "a1e378cb",
   "metadata": {},
   "source": [
    "- 원시타입만 지원하는 C와 원시타입과 객체를 동시에 지원하는 자바, 그렇다면 파이썬은 어떤 형태의 타입을 지원할까? 객체만 \n",
    "- C나 자바는 성능에 대한 우선순위가 높은 언어다. 원시타입으로 구현했을 대 훨신 더 빠른 속도로 실행할 수 있다. 파이썬은 원시 타입의 속도을 지원하지 않는다. 원시타입의 속도를 포기하는 대신 개체의 다양한 기능과 편의성을 택했다. \n",
    "- C : 원시타입 / JAVA : 원시타입, 객체 / Python : 객체"
   ]
  },
  {
   "cell_type": "markdown",
   "id": "ab2a7322",
   "metadata": {},
   "source": [
    "### 객체 \n",
    "- 파이썬은 모든 것이 객체다. 불변객체와 가변객체로 구분할 수 있다."
   ]
  },
  {
   "cell_type": "markdown",
   "id": "d146b963",
   "metadata": {},
   "source": [
    "### 불변 객체 (Immutable Object)"
   ]
  },
  {
   "cell_type": "code",
   "execution_count": 1,
   "id": "b7a0123a",
   "metadata": {},
   "outputs": [
    {
     "data": {
      "text/plain": [
       "(140717695139168, 140717695139168, 140717695139168)"
      ]
     },
     "execution_count": 1,
     "metadata": {},
     "output_type": "execute_result"
    }
   ],
   "source": [
    "10 \n",
    "a = 10 \n",
    "b = a\n",
    "id(10), id(a), id(b)"
   ]
  },
  {
   "cell_type": "markdown",
   "id": "3d2945a9",
   "metadata": {},
   "source": [
    "- 10이라는 숫자가 있다. 이제 이 10을 a변수에 할당했다. 그리고 b변수는 a변수를 할당했다. 만약 모두 원시타입이라면 각각의 값들은 각 메모리의 다른 영역에 위치할 것이다. 그러나 파이썬은 모든 것이 객체이므로, 메모리 상에 위치한 객체의 주소를 얻어오는 id() 함수를 실행한 결과는 놀랍게도 모두 동일하다. <br>\n",
    "숫자와 문자는 모두 불변 객체이기 때문이다. 값을 담고 있는 변수는 사실은 참조일 뿐이고 실제로 값을 갖고 있는 int와 str은 모두 불변 객체다. "
   ]
  },
  {
   "cell_type": "markdown",
   "id": "a43cf6e4",
   "metadata": {},
   "source": [
    "### 가변 객체 (Mutable Object) "
   ]
  },
  {
   "cell_type": "code",
   "execution_count": 11,
   "id": "69a03f2b",
   "metadata": {},
   "outputs": [
    {
     "name": "stdout",
     "output_type": "stream",
     "text": [
      "[1, 2, 3, 4, 5]\n",
      "[1, 2, 4, 4, 5]\n",
      "[1, 2, 4, 4, 5]\n"
     ]
    }
   ],
   "source": [
    "a = [1,2,3,4,5]\n",
    "b = a\n",
    "print(b)\n",
    "a[2] = 4\n",
    "print(a)\n",
    "print(b)"
   ]
  },
  {
   "cell_type": "code",
   "execution_count": 8,
   "id": "058c8fb8",
   "metadata": {},
   "outputs": [
    {
     "data": {
      "text/plain": [
       "2329419599624"
      ]
     },
     "execution_count": 8,
     "metadata": {},
     "output_type": "execute_result"
    }
   ],
   "source": [
    "id(a)"
   ]
  },
  {
   "cell_type": "code",
   "execution_count": 9,
   "id": "7d9491bb",
   "metadata": {},
   "outputs": [
    {
     "data": {
      "text/plain": [
       "2329419599624"
      ]
     },
     "execution_count": 9,
     "metadata": {},
     "output_type": "execute_result"
    }
   ],
   "source": [
    "id(b)"
   ]
  },
  {
   "cell_type": "markdown",
   "id": "231560cf",
   "metadata": {},
   "source": [
    "- 참조까지 값이 변하는 것을 알 수 있다. \n",
    "- C++ 참조와 비교 \n",
    "    - C++의 참조(Reference) 방식은 파이썬의 참조 할당 방식과는 조금 다르다. \n",
    "    - C++에서 참조 변수는 파이썬과 동일하게 참조를 갖는다. 또한 참조 변수에 값을 할당하면 참조의 대상 또한 할당된 값으로 변경된다. 이 경우 참조 대상인 변수 a는 값이 10에서 7로 변경된다. <br>\n",
    "    그러나 파이썬은 다르다. b = a를 통해 a와 b는 동일한 메모리 주소를 가리키게 됐지만, b = 7로 b에 새로운 값을 할당하게 되면 더 이상 b변수는 a변수를 참조하지 않는다.  "
   ]
  },
  {
   "cell_type": "markdown",
   "id": "4fe71ba4",
   "metadata": {},
   "source": [
    "- is와 == \n",
    "    - is는 id()값을 비교하는 함수다. None은 null로서 값 자체가 정으되어 있지 않으므로 ==로 비교가 불가능하다."
   ]
  },
  {
   "cell_type": "code",
   "execution_count": 15,
   "id": "36109388",
   "metadata": {},
   "outputs": [],
   "source": [
    "import copy"
   ]
  },
  {
   "cell_type": "code",
   "execution_count": 16,
   "id": "1013c528",
   "metadata": {},
   "outputs": [
    {
     "data": {
      "text/plain": [
       "True"
      ]
     },
     "execution_count": 16,
     "metadata": {},
     "output_type": "execute_result"
    }
   ],
   "source": [
    "a = [1,2,3]\n",
    "a == copy.deepcopy(a)"
   ]
  },
  {
   "cell_type": "code",
   "execution_count": 17,
   "id": "af5eb8ea",
   "metadata": {},
   "outputs": [
    {
     "data": {
      "text/plain": [
       "False"
      ]
     },
     "execution_count": 17,
     "metadata": {},
     "output_type": "execute_result"
    }
   ],
   "source": [
    "a is copy.deepcopy(a)"
   ]
  },
  {
   "cell_type": "markdown",
   "id": "09a8dd11",
   "metadata": {},
   "source": [
    "- copy.deepcopy()로 복사한 결과 또한 값은 같지만 ID는 다르기 때문에, ==로 비교하면 True, is로 비교할 경우 False가 된다. "
   ]
  },
  {
   "cell_type": "markdown",
   "id": "964079ab",
   "metadata": {},
   "source": [
    "### 속도 \n",
    "- 파이썬 객체는 값을 꺼내는 데만 해도 여러 단계의 부가 작업이 필요하다. \n",
    "- JAVA는 원시 타입도 함께 제공하기 때문에 속도를 위해서는 원시 타입으로 계산을 진행하면 C와 거의 유사한 수준으로 빠른 속도를 낼 수 있다. 마찬가지로 파이썬의 과학 계산 모듈인 넘파이(Numpy)는 빠른 속도로도 유명한데, 넘파이는 C로 만든 모듈이며 내부적으로 리스트를 C의 원시 타입으로 처리하기 때문이다. \n",
    "- 파이썬은 굳이 리스트를 사용하거나 객체를 사용할까? 자세한 내용은 5장에서!! "
   ]
  }
 ],
 "metadata": {
  "kernelspec": {
   "display_name": "Python 3 (ipykernel)",
   "language": "python",
   "name": "python3"
  },
  "language_info": {
   "codemirror_mode": {
    "name": "ipython",
    "version": 3
   },
   "file_extension": ".py",
   "mimetype": "text/x-python",
   "name": "python",
   "nbconvert_exporter": "python",
   "pygments_lexer": "ipython3",
   "version": "3.7.9"
  }
 },
 "nbformat": 4,
 "nbformat_minor": 5
}
