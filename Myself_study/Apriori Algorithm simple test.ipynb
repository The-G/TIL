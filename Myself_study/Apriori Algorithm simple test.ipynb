{
 "cells": [
  {
   "cell_type": "markdown",
   "metadata": {},
   "source": [
    "## 이론 \n",
    "- 연관규칙이란? <br>\n",
    "A라는 상품과 B라는 상품이 서로 연관성이 있다고 하면 A->B 라고 하는 연관 규칙을 만들 수 있다. <br>\n",
    "하지만 상품이 수백, 수천개라면 이러한 연관 규칙도 엄청나게 많이 생성되어서<br>\n",
    "이 중에 과연 어떤 연관 규칙이 가장 크리티컬하게 사용될 수 있는지 평가가 필요하다. <br>\n",
    "이러한 연관규칙 평가에는 3가지 척도가 쓰이는데, '지지도','신뢰도','향상도'라고 하는 척도이다"
   ]
  },
  {
   "cell_type": "markdown",
   "metadata": {},
   "source": [
    "1. 지지도(Support) <br>\n",
    "전체 거래항목 중 상품 A와 상품 B를 동시에 포함하여 거래하는 비율을 의미하는데,<br>\n",
    "A->B 라고 하는 규칙이 전체 거래 중 차지하는 비율을 통해 해당 연관 규칙이 얼마나 의미가 있는 규칙인지를 확인합니다. <br>\n",
    "<br>\n",
    "**지지도 = P(A∩B) : (A와 B가 동시에 포함된 거래 수 / 전체 거래 수)**<br>\n",
    "<br>\n",
    "\n",
    "\n",
    "2. 신뢰도(Confidence)<br>\n",
    "상품 A를 포함하는 거래 중 A와 B가 동시에 거래되는 비중으로,<br>\n",
    "상품 A를 구매 했을 때 상품 B를 구매할 확률이 어느정도 되는지를 확인<br>\n",
    "<br>\n",
    "**신뢰도 = P(A∩B)/P(A) : (A와B가 동시에 포함된 거래 수 / A가 포함된 거래 수)** <br>\n",
    "<br>\n",
    "\n",
    "\n",
    "3. 향상도(Lift) <br>\n",
    "상품 A의 거래 중 항목 B가 포함된 거래의 비율 / 전체 상품 거래 중 상품 B가 거래된 비율<br>\n",
    "(A가 주어지지 않았을 때 B의 확률 대비 A가 주어졌을 때 B의 확률 증가 비율) <br>\n",
    "<br>\n",
    "**향상도 = P(B|A)/P(B) : A와B가 동시에 일어난 횟수 / A,B가 독립된 사건일 때 A,B가 동시에 일어날 확률**<br>\n",
    "품목 A와 B사이에 아무런 관계가 상호 관계가 없으면 향상도는 1이고, 향상도가 1보다 높아질 수록 연관성이 높다고 할 수 있다.<br> \n",
    "이것은 또한 향상도가 1보다 크거나 작다면 우연적 기회(Random Chance)보다 우수하다고 해석\n",
    "<br><br><br>\n",
    "\n",
    "상품의 갯수가 증가될수록 계산량이 기하급수적으로 늘어나게 되므로 구매 데이터가 적은 상품은 과감히 버릴 수 있어야 하며, 현업에서 의미있게 사용될만한 연관 규칙을 의논하는 과정도 있어야 한다... 계산량이 많음,,"
   ]
  },
  {
   "cell_type": "markdown",
   "metadata": {},
   "source": [
    "## 코드 convert 함\n",
    "버전 안 맞아서.."
   ]
  },
  {
   "cell_type": "code",
   "execution_count": 8,
   "metadata": {
    "collapsed": true
   },
   "outputs": [],
   "source": [
    "from numpy import *"
   ]
  },
  {
   "cell_type": "code",
   "execution_count": 9,
   "metadata": {
    "collapsed": true
   },
   "outputs": [],
   "source": [
    "def loadDataSet():\n",
    "    return [[1, 3, 4], [2, 3, 5], [1, 2, 3, 5], [2, 5]]"
   ]
  },
  {
   "cell_type": "code",
   "execution_count": 10,
   "metadata": {
    "collapsed": true
   },
   "outputs": [],
   "source": [
    "def createC1(dataSet):\n",
    "    C1 = []\n",
    "    for transaction in dataSet:\n",
    "        for item in transaction:\n",
    "            if not [item] in C1:\n",
    "                C1.append([item])\n",
    "                \n",
    "    C1.sort()\n",
    "    return list(map(frozenset, C1))# use frozen set so we can use it as a key in a dict    "
   ]
  },
  {
   "cell_type": "code",
   "execution_count": 11,
   "metadata": {
    "collapsed": true
   },
   "outputs": [],
   "source": [
    "def scanD(D, Ck, minSupport):\n",
    "    ssCnt = {}\n",
    "    for tid in D:\n",
    "        for can in Ck:\n",
    "            if can.issubset(tid):\n",
    "                if not can in ssCnt: ssCnt[can]=1\n",
    "                else: ssCnt[can] += 1\n",
    "    numItems = float(len(D))\n",
    "    retList = []\n",
    "    supportData = {}\n",
    "    for key in ssCnt:\n",
    "        support = ssCnt[key]/numItems\n",
    "        if support >= minSupport:\n",
    "            retList.insert(0,key)\n",
    "        supportData[key] = support\n",
    "    return retList, supportData"
   ]
  },
  {
   "cell_type": "code",
   "execution_count": 12,
   "metadata": {},
   "outputs": [
    {
     "data": {
      "text/plain": [
       "[[1, 3, 4], [2, 3, 5], [1, 2, 3, 5], [2, 5]]"
      ]
     },
     "execution_count": 12,
     "metadata": {},
     "output_type": "execute_result"
    }
   ],
   "source": [
    "dataSet = loadDataSet()\n",
    "dataSet"
   ]
  },
  {
   "cell_type": "code",
   "execution_count": 13,
   "metadata": {},
   "outputs": [
    {
     "data": {
      "text/plain": [
       "[frozenset({1}),\n",
       " frozenset({2}),\n",
       " frozenset({3}),\n",
       " frozenset({4}),\n",
       " frozenset({5})]"
      ]
     },
     "execution_count": 13,
     "metadata": {},
     "output_type": "execute_result"
    }
   ],
   "source": [
    "# 후보 아이템 집합인 C1을 생성함\n",
    "C1 = createC1(dataSet)\n",
    "C1"
   ]
  },
  {
   "cell_type": "code",
   "execution_count": 14,
   "metadata": {},
   "outputs": [
    {
     "data": {
      "text/plain": [
       "[{1, 3, 4}, {2, 3, 5}, {1, 2, 3, 5}, {2, 5}]"
      ]
     },
     "execution_count": 14,
     "metadata": {},
     "output_type": "execute_result"
    }
   ],
   "source": [
    "# D is a dataset in the setform about dataSet.\n",
    "D = list(map(set,dataSet))\n",
    "D"
   ]
  },
  {
   "cell_type": "code",
   "execution_count": 15,
   "metadata": {},
   "outputs": [
    {
     "data": {
      "text/plain": [
       "[frozenset({5}), frozenset({2}), frozenset({3}), frozenset({1})]"
      ]
     },
     "execution_count": 15,
     "metadata": {},
     "output_type": "execute_result"
    }
   ],
   "source": [
    "# 최소 지지도 0.5 만족 변수 추출\n",
    "L1,suppDat0 = scanD(D,C1,0.5)\n",
    "L1"
   ]
  },
  {
   "cell_type": "code",
   "execution_count": 16,
   "metadata": {
    "collapsed": true
   },
   "outputs": [],
   "source": [
    "def aprioriGen(Lk, k): #creates Ck\n",
    "    retList = []\n",
    "    lenLk = len(Lk)\n",
    "    for i in range(lenLk):\n",
    "        for j in range(i+1, lenLk): \n",
    "            L1 = list(Lk[i])[:k-2]; L2 = list(Lk[j])[:k-2]\n",
    "            L1.sort(); L2.sort()\n",
    "            if L1==L2: #if first k-2 elements are equal\n",
    "                retList.append(Lk[i] | Lk[j]) #set union\n",
    "    return retList"
   ]
  },
  {
   "cell_type": "code",
   "execution_count": 17,
   "metadata": {
    "collapsed": true
   },
   "outputs": [],
   "source": [
    "def apriori(dataSet, minSupport = 0.5):\n",
    "    C1 = createC1(dataSet)\n",
    "    D = list(map(set, dataSet))\n",
    "    L1, supportData = scanD(D, C1, minSupport)\n",
    "    L = [L1]\n",
    "    k = 2\n",
    "    while (len(L[k-2]) > 0):\n",
    "        Ck = aprioriGen(L[k-2], k)\n",
    "        Lk, supK = scanD(D, Ck, minSupport)#scan DB to get Lk\n",
    "        supportData.update(supK)\n",
    "        L.append(Lk)\n",
    "        k += 1\n",
    "    return L, supportData"
   ]
  },
  {
   "cell_type": "code",
   "execution_count": 30,
   "metadata": {},
   "outputs": [
    {
     "data": {
      "text/plain": [
       "[[frozenset({5}), frozenset({2}), frozenset({3}), frozenset({1})],\n",
       " [frozenset({2, 3}), frozenset({3, 5}), frozenset({2, 5}), frozenset({1, 3})],\n",
       " [frozenset({2, 3, 5})],\n",
       " []]"
      ]
     },
     "execution_count": 30,
     "metadata": {},
     "output_type": "execute_result"
    }
   ],
   "source": [
    "# apriori 결과 확인 \n",
    "# L은 빈발 아이템 집합에 대한 목록을 포함하고 있으며, 최소 지지도는 0.5이다. \n",
    "L,suppData = apriori(dataSet,0.5)\n",
    "L"
   ]
  },
  {
   "cell_type": "code",
   "execution_count": 31,
   "metadata": {},
   "outputs": [
    {
     "data": {
      "text/plain": [
       "[[frozenset({5}), frozenset({2}), frozenset({3})], [frozenset({2, 5})], []]"
      ]
     },
     "execution_count": 31,
     "metadata": {},
     "output_type": "execute_result"
    }
   ],
   "source": [
    "L,suppData = apriori(dataSet,0.7)\n",
    "L"
   ]
  },
  {
   "cell_type": "code",
   "execution_count": 19,
   "metadata": {},
   "outputs": [
    {
     "data": {
      "text/plain": [
       "[frozenset({5}), frozenset({2}), frozenset({3}), frozenset({1})]"
      ]
     },
     "execution_count": 19,
     "metadata": {},
     "output_type": "execute_result"
    }
   ],
   "source": [
    "L[0]"
   ]
  },
  {
   "cell_type": "code",
   "execution_count": 20,
   "metadata": {},
   "outputs": [
    {
     "data": {
      "text/plain": [
       "[frozenset({2, 3}), frozenset({3, 5}), frozenset({2, 5}), frozenset({1, 3})]"
      ]
     },
     "execution_count": 20,
     "metadata": {},
     "output_type": "execute_result"
    }
   ],
   "source": [
    "L[1]"
   ]
  },
  {
   "cell_type": "code",
   "execution_count": 21,
   "metadata": {},
   "outputs": [
    {
     "data": {
      "text/plain": [
       "[frozenset({2, 3, 5})]"
      ]
     },
     "execution_count": 21,
     "metadata": {},
     "output_type": "execute_result"
    }
   ],
   "source": [
    "L[2]"
   ]
  },
  {
   "cell_type": "code",
   "execution_count": 22,
   "metadata": {},
   "outputs": [
    {
     "data": {
      "text/plain": [
       "[]"
      ]
     },
     "execution_count": 22,
     "metadata": {},
     "output_type": "execute_result"
    }
   ],
   "source": [
    "L[3]"
   ]
  },
  {
   "cell_type": "code",
   "execution_count": 23,
   "metadata": {},
   "outputs": [
    {
     "data": {
      "text/plain": [
       "[frozenset({2, 5}),\n",
       " frozenset({3, 5}),\n",
       " frozenset({1, 5}),\n",
       " frozenset({2, 3}),\n",
       " frozenset({1, 2}),\n",
       " frozenset({1, 3})]"
      ]
     },
     "execution_count": 23,
     "metadata": {},
     "output_type": "execute_result"
    }
   ],
   "source": [
    "aprioriGen(L[0],2)"
   ]
  },
  {
   "cell_type": "code",
   "execution_count": 24,
   "metadata": {
    "collapsed": true
   },
   "outputs": [],
   "source": [
    "def generateRules(L, supportData, minConf=0.7):  #supportData is a dict coming from scanD\n",
    "    bigRuleList = []\n",
    "    for i in range(1, len(L)):#only get the sets with two or more items\n",
    "        for freqSet in L[i]:\n",
    "            H1 = [frozenset([item]) for item in freqSet]\n",
    "            if (i > 1):\n",
    "                rulesFromConseq(freqSet, H1, supportData, bigRuleList, minConf)\n",
    "            else:\n",
    "                calcConf(freqSet, H1, supportData, bigRuleList, minConf)\n",
    "    return bigRuleList   "
   ]
  },
  {
   "cell_type": "code",
   "execution_count": 25,
   "metadata": {
    "collapsed": true
   },
   "outputs": [],
   "source": [
    "def calcConf(freqSet, H, supportData, brl, minConf=0.7):\n",
    "    prunedH = [] #create new list to return\n",
    "    for conseq in H:\n",
    "        conf = supportData[freqSet]/supportData[freqSet-conseq] #calc confidence\n",
    "        if conf >= minConf: \n",
    "            print (freqSet-conseq,'-->',conseq,'conf:',conf)\n",
    "            brl.append((freqSet-conseq, conseq, conf))\n",
    "            prunedH.append(conseq)\n",
    "    return prunedH"
   ]
  },
  {
   "cell_type": "code",
   "execution_count": 26,
   "metadata": {
    "collapsed": true
   },
   "outputs": [],
   "source": [
    "def rulesFromConseq(freqSet, H, supportData, brl, minConf=0.7):\n",
    "    m = len(H[0])\n",
    "    if (len(freqSet) > (m + 1)): #try further merging\n",
    "        Hmp1 = aprioriGen(H, m+1)#create Hm+1 new candidates\n",
    "        Hmp1 = calcConf(freqSet, Hmp1, supportData, brl, minConf)\n",
    "        if (len(Hmp1) > 1):    #need at least two sets to merge\n",
    "            rulesFromConseq(freqSet, Hmp1, supportData, brl, minConf)"
   ]
  },
  {
   "cell_type": "code",
   "execution_count": 35,
   "metadata": {},
   "outputs": [
    {
     "data": {
      "text/plain": [
       "[[1, 3, 4], [2, 3, 5], [1, 2, 3, 5], [2, 5]]"
      ]
     },
     "execution_count": 35,
     "metadata": {},
     "output_type": "execute_result"
    }
   ],
   "source": [
    "dataSet"
   ]
  },
  {
   "cell_type": "code",
   "execution_count": 32,
   "metadata": {
    "scrolled": true
   },
   "outputs": [
    {
     "data": {
      "text/plain": [
       "[[frozenset({5}), frozenset({2}), frozenset({3}), frozenset({1})],\n",
       " [frozenset({2, 3}), frozenset({3, 5}), frozenset({2, 5}), frozenset({1, 3})],\n",
       " [frozenset({2, 3, 5})],\n",
       " []]"
      ]
     },
     "execution_count": 32,
     "metadata": {},
     "output_type": "execute_result"
    }
   ],
   "source": [
    "L,suppData= apriori(dataSet,minSupport=0.5)\n",
    "L\n",
    "# 지지도 0.5로 하는 빈발 아이템 집합을 생성\n",
    "# 지지도 = A와 B가 동시에 포함된 거래 수 / 전체 거래 수"
   ]
  },
  {
   "cell_type": "code",
   "execution_count": 29,
   "metadata": {},
   "outputs": [
    {
     "name": "stdout",
     "output_type": "stream",
     "text": [
      "frozenset({5}) --> frozenset({2}) conf: 1.0\n",
      "frozenset({2}) --> frozenset({5}) conf: 1.0\n",
      "frozenset({1}) --> frozenset({3}) conf: 1.0\n"
     ]
    }
   ],
   "source": [
    "# 신뢰도 계산.. 상품 A를 구매 했을 때 상품 B를 구매할 확률이 어느정도 되는지를 확인\n",
    "rules= generateRules(L,suppData, minConf=0.7)"
   ]
  },
  {
   "cell_type": "code",
   "execution_count": null,
   "metadata": {
    "collapsed": true
   },
   "outputs": [],
   "source": []
  },
  {
   "cell_type": "markdown",
   "metadata": {},
   "source": [
    "## Example 수행"
   ]
  },
  {
   "cell_type": "code",
   "execution_count": 40,
   "metadata": {},
   "outputs": [],
   "source": [
    "mushDatSet = [line.split() for line in open('mushroom.dat.txt').readlines()]\n",
    "# list로 넣네... "
   ]
  },
  {
   "cell_type": "code",
   "execution_count": 43,
   "metadata": {},
   "outputs": [
    {
     "data": {
      "text/plain": [
       "8124"
      ]
     },
     "execution_count": 43,
     "metadata": {},
     "output_type": "execute_result"
    }
   ],
   "source": [
    "len(mushDatSet) # 행"
   ]
  },
  {
   "cell_type": "code",
   "execution_count": 46,
   "metadata": {},
   "outputs": [
    {
     "data": {
      "text/plain": [
       "23"
      ]
     },
     "execution_count": 46,
     "metadata": {},
     "output_type": "execute_result"
    }
   ],
   "source": [
    "len(mushDatSet[0]) #열"
   ]
  },
  {
   "cell_type": "code",
   "execution_count": 49,
   "metadata": {
    "collapsed": true
   },
   "outputs": [],
   "source": [
    "L,suppData= apriori(mushDatSet, minSupport=0.3)\n",
    "# 지지도 0.3이상 상품들"
   ]
  },
  {
   "cell_type": "code",
   "execution_count": 51,
   "metadata": {},
   "outputs": [
    {
     "name": "stdout",
     "output_type": "stream",
     "text": [
      "frozenset({'28', '2'})\n",
      "frozenset({'2', '53'})\n",
      "frozenset({'2', '23'})\n",
      "frozenset({'34', '2'})\n",
      "frozenset({'2', '36'})\n",
      "frozenset({'2', '59'})\n",
      "frozenset({'63', '2'})\n",
      "frozenset({'67', '2'})\n",
      "frozenset({'76', '2'})\n",
      "frozenset({'2', '85'})\n",
      "frozenset({'2', '86'})\n",
      "frozenset({'2', '90'})\n",
      "frozenset({'2', '93'})\n",
      "frozenset({'39', '2'})\n"
     ]
    }
   ],
   "source": [
    "for item in L[1]:\n",
    "    if item.intersection('2'):\n",
    "        print (item)"
   ]
  },
  {
   "cell_type": "code",
   "execution_count": 52,
   "metadata": {},
   "outputs": [
    {
     "name": "stdout",
     "output_type": "stream",
     "text": [
      "frozenset({'34', '90', '85', '2', '39', '53', '86'})\n",
      "frozenset({'28', '85', '90', '2', '39', '53', '86'})\n",
      "frozenset({'28', '34', '90', '2', '39', '53', '86'})\n",
      "frozenset({'28', '34', '85', '2', '39', '53', '86'})\n",
      "frozenset({'28', '34', '85', '90', '2', '39', '53'})\n",
      "frozenset({'28', '34', '85', '90', '2', '39', '86'})\n",
      "frozenset({'28', '34', '85', '90', '2', '53', '86'})\n",
      "frozenset({'28', '34', '85', '2', '59', '39', '86'})\n",
      "frozenset({'28', '34', '63', '85', '2', '39', '86'})\n",
      "frozenset({'85', '93', '90', '23', '2', '59', '86'})\n",
      "frozenset({'85', '93', '23', '2', '59', '39', '86'})\n",
      "frozenset({'63', '36', '90', '93', '85', '2', '59'})\n",
      "frozenset({'63', '85', '23', '2', '59', '39', '86'})\n",
      "frozenset({'63', '36', '85', '2', '59', '39', '86'})\n",
      "frozenset({'63', '36', '23', '2', '59', '39', '86'})\n",
      "frozenset({'63', '36', '85', '93', '2', '59', '39'})\n",
      "frozenset({'63', '36', '85', '23', '2', '39', '86'})\n",
      "frozenset({'63', '36', '85', '23', '2', '59', '39'})\n",
      "frozenset({'63', '36', '85', '23', '2', '59', '86'})\n",
      "frozenset({'63', '34', '90', '85', '2', '39', '86'})\n",
      "frozenset({'63', '34', '90', '85', '2', '59', '86'})\n",
      "frozenset({'63', '34', '85', '2', '59', '39', '86'})\n",
      "frozenset({'63', '34', '23', '2', '59', '39', '86'})\n",
      "frozenset({'63', '34', '85', '93', '2', '59', '86'})\n",
      "frozenset({'63', '34', '85', '23', '2', '39', '86'})\n",
      "frozenset({'63', '34', '85', '23', '2', '59', '39'})\n",
      "frozenset({'63', '34', '85', '23', '2', '59', '86'})\n",
      "frozenset({'63', '34', '36', '2', '59', '39', '86'})\n",
      "frozenset({'63', '34', '36', '85', '2', '39', '86'})\n",
      "frozenset({'63', '34', '36', '85', '2', '59', '39'})\n",
      "frozenset({'63', '34', '36', '85', '2', '59', '86'})\n",
      "frozenset({'63', '34', '36', '23', '2', '39', '86'})\n",
      "frozenset({'63', '34', '36', '23', '85', '2', '86'})\n",
      "frozenset({'63', '34', '36', '23', '85', '2', '59'})\n",
      "frozenset({'63', '34', '36', '23', '85', '2', '39'})\n",
      "frozenset({'63', '34', '36', '23', '2', '59', '39'})\n",
      "frozenset({'63', '34', '36', '23', '2', '59', '86'})\n",
      "frozenset({'36', '90', '93', '85', '2', '59', '39'})\n",
      "frozenset({'36', '90', '93', '85', '2', '59', '86'})\n",
      "frozenset({'36', '85', '93', '2', '59', '39', '86'})\n",
      "frozenset({'36', '23', '93', '2', '59', '39', '86'})\n",
      "frozenset({'36', '85', '93', '23', '2', '39', '86'})\n",
      "frozenset({'36', '85', '93', '23', '2', '59', '39'})\n",
      "frozenset({'36', '85', '93', '23', '2', '59', '86'})\n",
      "frozenset({'36', '85', '23', '2', '59', '39', '86'})\n",
      "frozenset({'34', '90', '93', '85', '2', '59', '86'})\n",
      "frozenset({'34', '90', '93', '23', '85', '2', '86'})\n",
      "frozenset({'34', '90', '93', '23', '85', '2', '59'})\n",
      "frozenset({'34', '90', '93', '23', '2', '59', '86'})\n",
      "frozenset({'34', '85', '93', '2', '59', '39', '86'})\n",
      "frozenset({'34', '23', '93', '2', '59', '39', '86'})\n",
      "frozenset({'34', '85', '93', '23', '2', '39', '86'})\n",
      "frozenset({'34', '85', '93', '23', '2', '59', '39'})\n",
      "frozenset({'34', '85', '93', '23', '2', '59', '86'})\n",
      "frozenset({'34', '36', '93', '2', '59', '39', '86'})\n",
      "frozenset({'34', '90', '85', '2', '59', '39', '86'})\n",
      "frozenset({'34', '85', '90', '23', '2', '59', '86'})\n",
      "frozenset({'34', '36', '90', '93', '2', '59', '86'})\n",
      "frozenset({'34', '36', '90', '93', '85', '2', '86'})\n",
      "frozenset({'34', '36', '90', '93', '85', '2', '59'})\n",
      "frozenset({'34', '36', '90', '85', '2', '59', '86'})\n",
      "frozenset({'34', '36', '85', '2', '59', '39', '86'})\n",
      "frozenset({'34', '36', '23', '2', '59', '39', '86'})\n",
      "frozenset({'34', '36', '85', '93', '2', '39', '86'})\n",
      "frozenset({'34', '36', '85', '93', '2', '59', '39'})\n",
      "frozenset({'34', '36', '85', '93', '2', '59', '86'})\n",
      "frozenset({'34', '36', '85', '23', '2', '39', '86'})\n",
      "frozenset({'34', '36', '85', '93', '23', '2', '86'})\n",
      "frozenset({'34', '36', '85', '93', '23', '2', '59'})\n",
      "frozenset({'34', '36', '85', '93', '23', '2', '39'})\n",
      "frozenset({'34', '36', '85', '23', '2', '59', '39'})\n",
      "frozenset({'34', '36', '85', '23', '2', '59', '86'})\n",
      "frozenset({'34', '36', '23', '93', '2', '39', '86'})\n",
      "frozenset({'34', '36', '23', '93', '2', '59', '39'})\n",
      "frozenset({'34', '36', '23', '93', '2', '59', '86'})\n"
     ]
    }
   ],
   "source": [
    "for item in L[6]:\n",
    "    if item.intersection('2'):\n",
    "        print (item)"
   ]
  },
  {
   "cell_type": "code",
   "execution_count": 56,
   "metadata": {},
   "outputs": [],
   "source": [
    "rules= generateRules(L,suppData, minConf=0.7)\n",
    "# 신뢰도 0.7이상\n",
    "# frozenset({'1'}) --> frozenset({'24'}) conf: 0.8406537282941777\n",
    "# 상품 \"1\"을 구매 했을 때 \"24\"를 구매할 확률 0.84"
   ]
  },
  {
   "cell_type": "markdown",
   "metadata": {},
   "source": [
    "이거 실제 데이터 반영하면,,, 오래 걸릴 거 같은데.. "
   ]
  },
  {
   "cell_type": "code",
   "execution_count": null,
   "metadata": {
    "collapsed": true
   },
   "outputs": [],
   "source": []
  }
 ],
 "metadata": {
  "kernelspec": {
   "display_name": "Python 3",
   "language": "python",
   "name": "python3"
  },
  "language_info": {
   "codemirror_mode": {
    "name": "ipython",
    "version": 3
   },
   "file_extension": ".py",
   "mimetype": "text/x-python",
   "name": "python",
   "nbconvert_exporter": "python",
   "pygments_lexer": "ipython3",
   "version": "3.6.3"
  }
 },
 "nbformat": 4,
 "nbformat_minor": 2
}
