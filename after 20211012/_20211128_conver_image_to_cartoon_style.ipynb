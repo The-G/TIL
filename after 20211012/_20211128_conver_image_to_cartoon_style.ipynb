{
 "cells": [
  {
   "cell_type": "markdown",
   "id": "44a2a390",
   "metadata": {},
   "source": [
    "# Sample 1 "
   ]
  },
  {
   "cell_type": "code",
   "execution_count": 2,
   "id": "6507a207",
   "metadata": {},
   "outputs": [],
   "source": [
    "# importing libraries\n",
    "import cv2 \n",
    "# pip install opencv-python\n",
    "import numpy as np "
   ]
  },
  {
   "cell_type": "code",
   "execution_count": 3,
   "id": "f2530bdd",
   "metadata": {},
   "outputs": [],
   "source": [
    "# reading image\n",
    "img = cv2.imread(\"image/my_love.jpg\")"
   ]
  },
  {
   "cell_type": "code",
   "execution_count": 4,
   "id": "12581e6d",
   "metadata": {},
   "outputs": [],
   "source": [
    "# Edges - option 1\n",
    "gray = cv2.cvtColor(img, cv2.COLOR_BGR2GRAY)\n",
    "gray = cv2.medianBlur(gray, 5)\n",
    "edges = cv2.adaptiveThreshold(gray, 255, \n",
    "                               cv2.ADAPTIVE_THRESH_MEAN_C,\n",
    "                               cv2.THRESH_BINARY, 9, 9)\n"
   ]
  },
  {
   "cell_type": "code",
   "execution_count": null,
   "id": "a3621981",
   "metadata": {},
   "outputs": [],
   "source": [
    "# Cartoonization \n",
    "color = cv2.bilateralFilter(img, 9,250,250)\n",
    "cartoon = cv2.bitwise_and(color,color,mask=edges)\n",
    "\n",
    "cv2.imshow(\"Image\",img)\n",
    "cv2.imshow(\"endges\",edges)\n",
    "cv2.imshow(\"Cartoon\",cartoon)\n",
    "cv2.waitKey(0)\n",
    "cv2.destroyAllWindows()"
   ]
  },
  {
   "cell_type": "markdown",
   "id": "6493eeb1",
   "metadata": {},
   "source": [
    "---"
   ]
  },
  {
   "cell_type": "markdown",
   "id": "a294e6b4",
   "metadata": {},
   "source": [
    "# Sample 2 - 가장 예쁘네 "
   ]
  },
  {
   "cell_type": "markdown",
   "id": "03ebca0a",
   "metadata": {},
   "source": [
    "- sigma_s는 이미지가 얼마나 스무스해질지를 결정해줍니다. 클수록 이미지가 더 스무스해집니다. 0에서 200까지의 값이 입력 가능합니다. sigma_r은 이미지가 스무스해지는 동안 엣지를 얼마만큼 보존시킬지를 결정해줍니다. 작을 수록 엣지가 많이 보존됩니다. 0에서 1까지 입력 가능합니다. \n",
    "- 그런데 체감상 sigma_s를 변화시켰을 때는 큰 차이를 못 느끼겠고, sigma_r을 변화시켰을 때는 상당한 차이가 느껴집니다. sigma_s를 100으로 고정시킨 상태에서 sigma_r를 0.1, 0.5, 0.9로 변화시킨 결과를 보여드리겠습니다. "
   ]
  },
  {
   "cell_type": "markdown",
   "id": "23768da2",
   "metadata": {},
   "source": [
    "- https://www.c-sharpcorner.com/article/cartoon-effect-and-pencil-sketch-using-open-cv-in-python/"
   ]
  },
  {
   "cell_type": "markdown",
   "id": "eb284e59",
   "metadata": {},
   "source": [
    "- 사진에 따라서 결과 차이가 많이 남... "
   ]
  },
  {
   "cell_type": "code",
   "execution_count": 31,
   "id": "342b7da9",
   "metadata": {},
   "outputs": [
    {
     "data": {
      "text/plain": [
       "True"
      ]
     },
     "execution_count": 31,
     "metadata": {},
     "output_type": "execute_result"
    }
   ],
   "source": [
    "import cv2\n",
    " \n",
    "img = cv2.imread('image/test_image.jpeg', cv2.IMREAD_COLOR)\n",
    "cartoon_img = cv2.stylization(img, sigma_s=200, sigma_r=0.5)  \n",
    " \n",
    "# cv2.imshow('original', img)\n",
    "# cv2.imshow('cartoon', cartoon_img)  \n",
    "# cv2.waitKey(0)  \n",
    "# cv2.destroyAllWindows() \n",
    " \n",
    "cv2.imwrite('cartoon_test.jpg', cartoon_img)"
   ]
  },
  {
   "cell_type": "markdown",
   "id": "53dd8510",
   "metadata": {},
   "source": [
    "# Sample 3"
   ]
  },
  {
   "cell_type": "code",
   "execution_count": 1,
   "id": "39b70389",
   "metadata": {},
   "outputs": [],
   "source": [
    "import cv2\n",
    "img = cv2.imread('image/my_love.jpg', cv2.IMREAD_COLOR)"
   ]
  },
  {
   "cell_type": "code",
   "execution_count": 2,
   "id": "3a9bce32",
   "metadata": {},
   "outputs": [],
   "source": [
    "cartoon_image1, cartoon_image2  = cv2.pencilSketch(img, sigma_s=100, sigma_r=0.3, shade_factor=0.02)  "
   ]
  },
  {
   "cell_type": "code",
   "execution_count": null,
   "id": "4467b367",
   "metadata": {},
   "outputs": [],
   "source": [
    "cv2.imshow('pencil', cartoon_image1)  \n",
    "cv2.waitKey()  \n",
    "cv2.destroyAllWindows()"
   ]
  },
  {
   "cell_type": "code",
   "execution_count": null,
   "id": "759770cf",
   "metadata": {},
   "outputs": [],
   "source": [
    "cv2.imshow('pencil', cartoon_image2)    \n",
    "cv2.waitKey()    \n",
    "cv2.destroyAllWindows()   "
   ]
  },
  {
   "cell_type": "code",
   "execution_count": null,
   "id": "ca07615f",
   "metadata": {},
   "outputs": [],
   "source": []
  }
 ],
 "metadata": {
  "kernelspec": {
   "display_name": "Python 3 (ipykernel)",
   "language": "python",
   "name": "python3"
  },
  "language_info": {
   "codemirror_mode": {
    "name": "ipython",
    "version": 3
   },
   "file_extension": ".py",
   "mimetype": "text/x-python",
   "name": "python",
   "nbconvert_exporter": "python",
   "pygments_lexer": "ipython3",
   "version": "3.7.9"
  }
 },
 "nbformat": 4,
 "nbformat_minor": 5
}
