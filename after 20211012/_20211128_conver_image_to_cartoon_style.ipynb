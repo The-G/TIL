{
 "cells": [
  {
   "cell_type": "code",
   "execution_count": 47,
   "id": "6507a207",
   "metadata": {},
   "outputs": [],
   "source": [
    "# importing libraries\n",
    "import cv2 \n",
    "# pip install opencv-python\n",
    "import numpy as np "
   ]
  },
  {
   "cell_type": "code",
   "execution_count": 48,
   "id": "f2530bdd",
   "metadata": {},
   "outputs": [],
   "source": [
    "# reading image\n",
    "img = cv2.imread(\"image/TestImage.jpg\")"
   ]
  },
  {
   "cell_type": "code",
   "execution_count": 49,
   "id": "12581e6d",
   "metadata": {},
   "outputs": [],
   "source": [
    "# Edges\n",
    "gray = cv2.cvtColor(img, cv2.COLOR_BGR2GRAY)\n",
    "gray = cv2.medianBlur(gray, 5)\n",
    "edges = cv2.adaptiveThreshold(gray, 255, \n",
    "                               cv2.ADAPTIVE_THRESH_MEAN_C,\n",
    "                               cv2.THRESH_BINARY, 9, 9)\n"
   ]
  },
  {
   "cell_type": "code",
   "execution_count": 50,
   "id": "a3621981",
   "metadata": {},
   "outputs": [],
   "source": [
    "# Cartoonization \n",
    "color = cv2.bilateralFilter(img, 9,250,250)\n",
    "cartoon = cv2.bitwise_and(color,color,mask=edges)\n",
    "\n",
    "cv2.imshow(\"Image\",img)\n",
    "cv2.imshow(\"endges\",edges)\n",
    "cv2.imshow(\"Cartoon\",cartoon)\n",
    "cv2.waitKey(0)\n",
    "cv2.destroyAllWindows()"
   ]
  }
 ],
 "metadata": {
  "kernelspec": {
   "display_name": "Python 3 (ipykernel)",
   "language": "python",
   "name": "python3"
  },
  "language_info": {
   "codemirror_mode": {
    "name": "ipython",
    "version": 3
   },
   "file_extension": ".py",
   "mimetype": "text/x-python",
   "name": "python",
   "nbconvert_exporter": "python",
   "pygments_lexer": "ipython3",
   "version": "3.7.9"
  }
 },
 "nbformat": 4,
 "nbformat_minor": 5
}
