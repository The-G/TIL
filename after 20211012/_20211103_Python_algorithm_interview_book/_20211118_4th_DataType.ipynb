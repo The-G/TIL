{
 "cells": [
  {
   "cell_type": "markdown",
   "id": "c019c4e5",
   "metadata": {},
   "source": [
    "## 자료형 "
   ]
  },
  {
   "cell_type": "markdown",
   "id": "555849ae",
   "metadata": {},
   "source": [
    "- 가장 많이 사용되는 리스트, 딕셔너리 자료형에 대해서 중점적으로 살펴보자.  "
   ]
  },
  {
   "cell_type": "markdown",
   "id": "cf82427a",
   "metadata": {},
   "source": [
    "### 파이썬 자료형 "
   ]
  },
  {
   "cell_type": "markdown",
   "id": "b3082f3a",
   "metadata": {},
   "source": [
    "- 파이썬3 표준 타입 계층 구조 (ver 3.7 기준)\n",
    "    - None Type\n",
    "    - 숫자 \n",
    "        - 정수형 \n",
    "            - 정수 (class int)\n",
    "            - 불리언 (class boolean)\n",
    "        - 실수 (Class float)\n",
    "    - 집합형 \n",
    "        - 집합 (class set)\n",
    "    - 매핑 \n",
    "        - 딕셔너리 (class dict)\n",
    "    - 시퀀스 \n",
    "        - 불변 \n",
    "            - 문자열 (class str)\n",
    "            - 튜블 (class tuple)\n",
    "            - 바이트 (class bytes)\n",
    "        - 가변 \n",
    "            - 리스트 (class list)"
   ]
  },
  {
   "cell_type": "markdown",
   "id": "eadae109",
   "metadata": {},
   "source": [
    "#### 숫자\n",
    "- PEP237 로드맵에 따라 버전 3부터는 아예 int 단일형으로 통합됐다. int는 임의 정밀도를 지원하며, 더 이상 파이썬에서 고정 정밀도 정수형은 지원하지 않게 됐다. \n",
    "- bool은 엄밀히 따지면 논리 자료형인데 파이썬에서는 내부적으로 1(True)과 0(False)으로 처리되는 int의 서브 클래스다. int는 object의 하위 클래스이기도 하기 때문에 결국 다음과 같은 구조를 띤다. (object > int > bool) "
   ]
  },
  {
   "cell_type": "code",
   "execution_count": 1,
   "id": "7d2874d2",
   "metadata": {},
   "outputs": [
    {
     "data": {
      "text/plain": [
       "True"
      ]
     },
     "execution_count": 1,
     "metadata": {},
     "output_type": "execute_result"
    }
   ],
   "source": [
    "True == 1"
   ]
  },
  {
   "cell_type": "code",
   "execution_count": 2,
   "id": "b014afe4",
   "metadata": {},
   "outputs": [
    {
     "data": {
      "text/plain": [
       "True"
      ]
     },
     "execution_count": 2,
     "metadata": {},
     "output_type": "execute_result"
    }
   ],
   "source": [
    "False == 0"
   ]
  },
  {
   "cell_type": "markdown",
   "id": "3734dfc2",
   "metadata": {},
   "source": [
    "- 비교 연산자 == 를 통해 확인한 결과 논리 자료형은 내부적으로 정수값을 갖고 있는 것을 확인할 수 있다. "
   ]
  },
  {
   "cell_type": "markdown",
   "id": "c775ff52",
   "metadata": {},
   "source": [
    "#### '임의 정밀도'란 무엇일까?\n",
    "- 임의 정밀도 정수형이란 쉽게 말해 무제한 자릿수를 제공하는 정수형을 말한다. 어떻게 이런 일이 가능할까? 자릿수 단위로 쪼개어 배열 형태로 표현한다. \n",
    "- 예를 덜어 123456789101112131415라는 아주 큰 수는 이하와 같이 재표현(Representation) 할 수 있다.\n",
    "    - $(437976919\\times2^{30\\cdot0}) + (87719511\\times2^{30\\cdot1}) + (107\\times2^{30\\cdot2})$ = 123456789101112131415\n"
   ]
  },
  {
   "cell_type": "code",
   "execution_count": 5,
   "id": "1f4f5ae8",
   "metadata": {},
   "outputs": [
    {
     "data": {
      "text/plain": [
       "123456789101112131415"
      ]
     },
     "execution_count": 5,
     "metadata": {},
     "output_type": "execute_result"
    }
   ],
   "source": [
    "(437976919*pow(2,(30*0))) + (87719511*pow(2,(30*1))) + (107*pow(2,(30*2)))"
   ]
  },
  {
   "cell_type": "markdown",
   "id": "eddf3f4f",
   "metadata": {},
   "source": [
    "- 이처럼 자릿수 단위로 구분한 값을 별도로 계산하여 처리하게 된다. \n",
    "- 임의 정밀도의 원리와 유사한 문제는 '비트 조작'에서 전가산기(Full Adder)를응용한 문제를 풀이할 때 다시 한번 다뤄본다. \n",
    "- 당연히 숫자를 임의 정밀도로 처리하면 계산 속도가 저하된다. 그러나 숫자를 단일형으로 처리할 수 있으므로 언어를 매우 단순한 구조로 만들 수 있을 뿐만 아니라, 언어를 사용하는 입장에서도 더 이상 오버플로를 고민할 필요가 없어 잘못된 계산 오류를 방지할 수 있다. "
   ]
  },
  {
   "cell_type": "markdown",
   "id": "ff9cacd9",
   "metadata": {},
   "source": [
    "#### 매핑 \n",
    "- 키와 자료형으로 구성된 복합 자료형이며, 파이썬에 내장된 유일한 매핑 자료형은 딕셔너리다. "
   ]
  },
  {
   "cell_type": "markdown",
   "id": "6d124026",
   "metadata": {},
   "source": [
    "#### 집합 \n",
    "- 중복된 값을 갖지 않는 자료형이다. "
   ]
  },
  {
   "cell_type": "code",
   "execution_count": 8,
   "id": "5599cbe4",
   "metadata": {},
   "outputs": [
    {
     "data": {
      "text/plain": [
       "set()"
      ]
     },
     "execution_count": 8,
     "metadata": {},
     "output_type": "execute_result"
    }
   ],
   "source": [
    "a = set()\n",
    "a"
   ]
  },
  {
   "cell_type": "code",
   "execution_count": 9,
   "id": "b3814a3d",
   "metadata": {},
   "outputs": [
    {
     "data": {
      "text/plain": [
       "set"
      ]
     },
     "execution_count": 9,
     "metadata": {},
     "output_type": "execute_result"
    }
   ],
   "source": [
    "type(a)"
   ]
  },
  {
   "cell_type": "code",
   "execution_count": 11,
   "id": "47691d14",
   "metadata": {},
   "outputs": [
    {
     "data": {
      "text/plain": [
       "set"
      ]
     },
     "execution_count": 11,
     "metadata": {},
     "output_type": "execute_result"
    }
   ],
   "source": [
    "a = {'a','b','c'}\n",
    "type(a)"
   ]
  },
  {
   "cell_type": "code",
   "execution_count": 15,
   "id": "db431d7e",
   "metadata": {},
   "outputs": [
    {
     "data": {
      "text/plain": [
       "dict"
      ]
     },
     "execution_count": 15,
     "metadata": {},
     "output_type": "execute_result"
    }
   ],
   "source": [
    "a = {'a':1, 'b':2, 'c':3}\n",
    "type(a)"
   ]
  },
  {
   "cell_type": "markdown",
   "id": "c9860995",
   "metadata": {},
   "source": [
    "- set은 입력 순서가 유지되지 않으며, 다음 처럼 중복된 값이 있을 경우 하나의 값만 유지한다. "
   ]
  },
  {
   "cell_type": "code",
   "execution_count": 16,
   "id": "07a07758",
   "metadata": {},
   "outputs": [
    {
     "data": {
      "text/plain": [
       "{2, 3, 5}"
      ]
     },
     "execution_count": 16,
     "metadata": {},
     "output_type": "execute_result"
    }
   ],
   "source": [
    "a = {3,2,3,5}\n",
    "a"
   ]
  },
  {
   "cell_type": "markdown",
   "id": "1587b6ba",
   "metadata": {},
   "source": [
    "#### 시퀀스 \n",
    "- '수열' 같은 의미로, 어떤 특정 대상의 순서 있는 나열을 뜻한다. 예를 들어 str은 문자의 순서 있는 나열로 문자열을 이루는 자료형이며, list는 다양한 값들을 배열 형태로 순서 있는 나열로 구성하는 자료형이다. \n",
    "- 시퀀스는 불변(Immutable)과 가변(Mutable)으로 구분한다. "
   ]
  },
  {
   "cell_type": "code",
   "execution_count": 17,
   "id": "6ace90b0",
   "metadata": {},
   "outputs": [
    {
     "data": {
      "text/plain": [
       "str"
      ]
     },
     "execution_count": 17,
     "metadata": {},
     "output_type": "execute_result"
    }
   ],
   "source": [
    "a = 'abc'\n",
    "a = 'def'\n",
    "type(a)"
   ]
  },
  {
   "cell_type": "markdown",
   "id": "079cf9cc",
   "metadata": {},
   "source": [
    "- a 변수에 할당된 str타입인 abc는 변경된 적이 없다. 불변이다. 이후에 a변수는 다른 str 타입인 def를 다시 참조했을 뿐 실제로 abc도, def도 한번 생성된 후에 변경된 적이 없다. 불변이므로 변경될 수도 없다. "
   ]
  },
  {
   "cell_type": "code",
   "execution_count": 18,
   "id": "fefeb8cf",
   "metadata": {},
   "outputs": [
    {
     "data": {
      "text/plain": [
       "4331773040"
      ]
     },
     "execution_count": 18,
     "metadata": {},
     "output_type": "execute_result"
    }
   ],
   "source": [
    "a = 'abc'\n",
    "id('abc')"
   ]
  },
  {
   "cell_type": "code",
   "execution_count": 19,
   "id": "c95bcf1e",
   "metadata": {},
   "outputs": [
    {
     "data": {
      "text/plain": [
       "4331773040"
      ]
     },
     "execution_count": 19,
     "metadata": {},
     "output_type": "execute_result"
    }
   ],
   "source": [
    "id(a)"
   ]
  },
  {
   "cell_type": "code",
   "execution_count": 20,
   "id": "89b39192",
   "metadata": {},
   "outputs": [
    {
     "data": {
      "text/plain": [
       "4332639344"
      ]
     },
     "execution_count": 20,
     "metadata": {},
     "output_type": "execute_result"
    }
   ],
   "source": [
    "a = 'def'\n",
    "id('def')"
   ]
  },
  {
   "cell_type": "code",
   "execution_count": 21,
   "id": "f89d2c3d",
   "metadata": {},
   "outputs": [
    {
     "data": {
      "text/plain": [
       "4332639344"
      ]
     },
     "execution_count": 21,
     "metadata": {},
     "output_type": "execute_result"
    }
   ],
   "source": [
    "id(a)"
   ]
  },
  {
   "cell_type": "markdown",
   "id": "461a6f07",
   "metadata": {},
   "source": [
    "- 각각의 메모리 주소를 출력해보면 a변수는 처음에는 abc를 참조했다가(같은 주소) 이후에는 def를 참조하도록 변경되었을 뿐이다. abc와 def는 생성된 후에 변하지 않고 메모리 어딘가에 남아 있다. <u>str이 정말로 변경되려면 참조하고 있는 str에 대해 다음과 같은 할당자가 처리되어야 하는데 여기서는 오류가 발생한다. </u>"
   ]
  },
  {
   "cell_type": "code",
   "execution_count": 22,
   "id": "6def8a3a",
   "metadata": {},
   "outputs": [
    {
     "ename": "TypeError",
     "evalue": "'str' object does not support item assignment",
     "output_type": "error",
     "traceback": [
      "\u001b[0;31m---------------------------------------------------------------------------\u001b[0m",
      "\u001b[0;31mTypeError\u001b[0m                                 Traceback (most recent call last)",
      "\u001b[0;32m/var/folders/1t/6yr_b7vx0bn5412mzpsfksyc0000gn/T/ipykernel_55753/2502563566.py\u001b[0m in \u001b[0;36m<module>\u001b[0;34m\u001b[0m\n\u001b[0;32m----> 1\u001b[0;31m \u001b[0ma\u001b[0m\u001b[0;34m[\u001b[0m\u001b[0;36m1\u001b[0m\u001b[0;34m]\u001b[0m \u001b[0;34m=\u001b[0m \u001b[0;34m'd'\u001b[0m\u001b[0;34m\u001b[0m\u001b[0;34m\u001b[0m\u001b[0m\n\u001b[0m",
      "\u001b[0;31mTypeError\u001b[0m: 'str' object does not support item assignment"
     ]
    }
   ],
   "source": [
    "a[1] = 'd'"
   ]
  },
  {
   "cell_type": "markdown",
   "id": "03d264fd",
   "metadata": {},
   "source": [
    "- 이처럼 str은 변경할 수 없으며, 불변이다. \n",
    "- 반면 list는 가변이다. 리스트는 자유롭게 값을 추가, 삭제할 수 있는 동적 배열이다. "
   ]
  },
  {
   "cell_type": "markdown",
   "id": "2ed03ff6",
   "metadata": {},
   "source": [
    "- 지금까지 파이썬에서 제공하는 주요 자료형을 살펴봤다. \n",
    "- 이후에는, 파이썬의 특수한 타입 구조에 대해 살펴본다. "
   ]
  }
 ],
 "metadata": {
  "kernelspec": {
   "display_name": "Python 3 (ipykernel)",
   "language": "python",
   "name": "python3"
  },
  "language_info": {
   "codemirror_mode": {
    "name": "ipython",
    "version": 3
   },
   "file_extension": ".py",
   "mimetype": "text/x-python",
   "name": "python",
   "nbconvert_exporter": "python",
   "pygments_lexer": "ipython3",
   "version": "3.7.9"
  }
 },
 "nbformat": 4,
 "nbformat_minor": 5
}
