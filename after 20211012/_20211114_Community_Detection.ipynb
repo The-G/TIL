{
 "cells": [
  {
   "cell_type": "markdown",
   "id": "103af501",
   "metadata": {},
   "source": [
    "## Social Network \n",
    "- 란, 개인 또는 집단을 하나의 node(or vertex)로 간주하고, 각 노드들의 관계를 edge(or link)로 연결한 사회적 관계 구조를 말한다. "
   ]
  },
  {
   "cell_type": "markdown",
   "id": "4bbe517e",
   "metadata": {},
   "source": [
    "<img src=\"image/social_network.png\" width=\"400\" align=\"left\" />"
   ]
  },
  {
   "cell_type": "markdown",
   "id": "b0f522d9",
   "metadata": {},
   "source": [
    "- Graph에서 node와 edge를 무엇으로 정하는지가 중요한 포인트라고 한다. \n",
    "    - node는 일반적으로 사람, 물체와 같은 실물 개체로 정의를 한다. \n",
    "    - edge는 개체 간의 추상 관계인 친구, 채팅 거래 등 다양하게 정의할 수 있다고 한다.\n",
    "    - edge는 기본적으로 관계 유무를 boolean으로 판단하지만 관계의 강약 빈도를 바탕으로 weight를 부여할 수도 있다고 한다. "
   ]
  },
  {
   "cell_type": "markdown",
   "id": "b3d4e6a7",
   "metadata": {},
   "source": [
    "## Community Detection \n",
    "<img src=\"image/community_detection.png\" width=\"400\" align=\"left\"/>"
   ]
  },
  {
   "cell_type": "markdown",
   "id": "888fd928",
   "metadata": {},
   "source": [
    "- 개요 \n",
    "    - Community란 Graph 내에서 내부 에지 밀집도가 높은 노드 집합을 의미하며, 이 노드 집합을 탐지하고자 하는 것이 Community Detection 임 \n",
    "    - 대표적인 활용처는 SNS의 친구 추천 기능이며, node와 edge로 구성할 수 있는 소셜관계가 존재하는 서비스면 머든 적용할 수 있다. \n",
    "    - 현 시점에 관계(Edge)가 없더라도 관련이 있을 법한 Node (알 수도 있느 사람)를 탐지할 수 있기에 Edge Prediction이라고도 볼 수 있다고 한다. \n",
    "- 상세 \n",
    "    - ㅇㅇ "
   ]
  },
  {
   "cell_type": "code",
   "execution_count": null,
   "id": "c55e8dd8",
   "metadata": {},
   "outputs": [],
   "source": []
  }
 ],
 "metadata": {
  "kernelspec": {
   "display_name": "Python 3 (ipykernel)",
   "language": "python",
   "name": "python3"
  },
  "language_info": {
   "codemirror_mode": {
    "name": "ipython",
    "version": 3
   },
   "file_extension": ".py",
   "mimetype": "text/x-python",
   "name": "python",
   "nbconvert_exporter": "python",
   "pygments_lexer": "ipython3",
   "version": "3.7.9"
  }
 },
 "nbformat": 4,
 "nbformat_minor": 5
}
