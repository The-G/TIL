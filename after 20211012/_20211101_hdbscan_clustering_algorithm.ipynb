{
 "cells": [
  {
   "cell_type": "markdown",
   "metadata": {},
   "source": [
    "https://ichi.pro/ko/hdbscan-mich-mildo-giban-keulleoseuteoling-ihae-19918965781006 <br>\n",
    "해당 페이지로 hdbscan에 대해서 알아 보았음, hdbscan 실습은 지난시간에 함 "
   ]
  },
  {
   "cell_type": "markdown",
   "metadata": {},
   "source": [
    "### K-Means가 실패하는 이유는? \n",
    "- K-means가 다음과 같을 때 가장 잘 수행 됩니다. \n",
    "    1. 원형 또는 구형\n",
    "    2. 같은 크기 \n",
    "    3. 똑같은 밀도 \n",
    "    4. 구의 중심에서 가장 밀도가 높음 \n",
    "    5. 소음 / 이상치에 의해 오염되지 않음 \n",
    "<br> \n",
    "<br> \n",
    "- 그래서, 임의의 모양이나, 다양한 크기의 클러스터, 밀도가 다른 군집, 이상치 존재하면 K-Means로는 군집화가 어려움 \n",
    "- 출력을 신뢰하기 전에 알고리즘의 가정이 충족되는지 확인하고 싶을 수 있다. 그러나 데이터에 대해 거의 알려지지 않은 경우 이러한 가정을 확인하기 어려울 수 있다. <b>클러스터링 알고리즘의 주요 용도 중 하나가 데이터를 이해하는 과정에있는 데이터 탐색 이기 때문에 불행한 일이라고 할 수 있다.</b> "
   ]
  },
  {
   "cell_type": "markdown",
   "metadata": {},
   "source": [
    "### 밀집 지역 및 다변량 모드\n",
    "- HDBSCAN의 핵심 아이디어와 데이터가 다음과 같은 경우에도 어떻게 뛰어난 지 살펴 보겠습니다.\n",
    "    - 임의 모양의 클러스터\n",
    "    - 크기와 밀도가 다른 클러스터\n",
    "    - 소음\n",
    "\n",
    "    \n",
    "- 클러스터의 밀도로 등고선을 그리네, 밀도 = 확률, 밀도가 높음 = 가능성이 높음 "
   ]
  },
  {
   "cell_type": "markdown",
   "metadata": {},
   "source": [
    "### 계층 구조 구축 \n",
    "- 클러스터 계층을 트리로 시각화\n",
    "- 위 링크에 참고할 만한 시각화자료 있음 "
   ]
  },
  {
   "cell_type": "markdown",
   "metadata": {},
   "source": [
    "### 해수면 낮추기 \n",
    "- HDBSCAN 해수면을 너무 낮추면 군집이 합쳐져버림"
   ]
  },
  {
   "cell_type": "markdown",
   "metadata": {},
   "source": [
    "### HDBSCAN 요약 \n",
    "- HDBSCAN의 구현에 대한 대략적인 스케치는 다음과 같습니다. \n",
    "    1. 포인트 당 코어 거리 계산 \n",
    "    2. mutual_reachability(a,b) 각 a,b에 대한 거리 메트릭으로 사용 \n",
    "    3. 최소 스패닝 트리 생성 \n",
    "    4. 나무 가지 치기 \n",
    "    5. \"질량 초과\"를 사용하여 클러스터 선택 \n",
    "이것은 기본적으로 우리가 pdf를 추정하는 방법입니다. "
   ]
  }
 ],
 "metadata": {
  "kernelspec": {
   "display_name": "Python 3",
   "language": "python",
   "name": "python3"
  },
  "language_info": {
   "codemirror_mode": {
    "name": "ipython",
    "version": 3
   },
   "file_extension": ".py",
   "mimetype": "text/x-python",
   "name": "python",
   "nbconvert_exporter": "python",
   "pygments_lexer": "ipython3",
   "version": "3.8.5"
  }
 },
 "nbformat": 4,
 "nbformat_minor": 4
}
