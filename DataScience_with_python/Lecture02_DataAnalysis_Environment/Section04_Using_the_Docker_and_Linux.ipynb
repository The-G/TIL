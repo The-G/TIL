{
 "cells": [
  {
   "cell_type": "markdown",
   "metadata": {},
   "source": [
    "# 4-1.셸, 터미널, 콘솔, 프롬프트"
   ]
  },
  {
   "cell_type": "markdown",
   "metadata": {},
   "source": [
    "본격적인 프로그래밍을 시작하기 전에 반드시 알아야 하는 것이 셸(shell)과 터미널(terminal), 그리고 콘솔(console)이라는 용어이다. 윈도우에서는 커맨드 프롬프트 라인(command prompt line), 혹은 줄여서 간단히 프롬프트라고도 부르고 우리말로 번역하여 명령 줄이라고도 한다. "
   ]
  },
  {
   "cell_type": "markdown",
   "metadata": {},
   "source": [
    "## 셸 시작하기"
   ]
  },
  {
   "cell_type": "markdown",
   "metadata": {},
   "source": [
    "셸을 사용하는 것은 모든 컴퓨터 사용의 가장 기초이다. 앞으로 여러가지 데이터 분석을 수행할 때마다 셸을 자주 사용하게 될 것이다. 따라서 자신이 사용하는 컴퓨터 운영체제에서 셸을 시작하는 방법과 어떤 셸 명령어를 지원하는지 잘 알고 있어야 한다. \n",
    "- 윈도우즈 에서 셸 시작하기\n",
    "- 맥 OS X 에서 셸 시작하기"
   ]
  },
  {
   "cell_type": "markdown",
   "metadata": {},
   "source": [
    "## 프롬프트\n",
    "셸 화면에서는 항상 새로운 줄이 시작할 때 마다 무언가 글씨가 출력되어 있다. 가장 일반적으로 나오는 것이 $(달러표시) 기호이다. 그리고 $ 기호 앞에 사용자 이름이나 컴퓨터 이름, 혹은 현재 디렉터리 위치 등 다른 글자들이 있을 수도 있다. \n",
    "\n",
    "앞서 그림 2-2에서는 dockeruser@7e2af2c6d:~$ 라는 글자가 프롬프트이다. 프롬프트(prompt)는 컴퓨터의 현재 상태 등을 보여주는 동시에 셸이 사용자의 명령을 받을 준비가 되었다는 것을 알려준다. 프롬프트가 나오면 사용자는 키보드로 명령을 입력할 수 있다. \n",
    "\n",
    "참고로 이 책에서는 셸 명령 예제를 보여줄 때 프롬프트까지 포함하여 보여주지만, 독자 여러분이 예제를 직접 작성할 때는 프롬프트 부분을 생략하고 작성해야 한다. 그리고 셸, 터미널, 콘솔이라는 의미도 프롬프트라는 말을 쓰기도 하므로 주의해야 한다. "
   ]
  },
  {
   "cell_type": "markdown",
   "metadata": {},
   "source": [
    "## 셸 명령\n",
    "방금 셸과 터미널/콘솔은 각각의 의미가 다르다고 했는데 정확하게 구분하여 말하면 다음과 같다.\n",
    "- 셸 : 사용자가 글자를 입력하여 컴퓨터에 명령할 수 있도록 하는 프로그램\n",
    "- 터미널/콘솔 : 셸을 실행하기 위해 글자 입력을 받아 컴퓨터에 전달하거나 컴퓨터의 출력을 글자 화면에 쓰는 프로그램\n",
    "따라서 셸과 터미널/콘솔은 항상 같이 실행할 수 밖에 없으므로 보통 같은 의미로 사용된다. \n",
    "\n",
    "셸 화면에서는 컴퓨터에 글자를 입력하여 간단한 명령을 수행할 수 있다. 셸 명령은 주로 파일이나 폴터(디렉터리)를 관맇기 위한 명령이다. 윈도우의 셸 명령과 맥/리눅스의 셸 명령은 비슷하지만 약간 차이가 있다. \n"
   ]
  },
  {
   "cell_type": "markdown",
   "metadata": {},
   "source": [
    "## 기본 셸 명령"
   ]
  },
  {
   "cell_type": "markdown",
   "metadata": {},
   "source": [
    "## 참고 문헌\n",
    "셸 명령을 잘 사용하는 것은 컴퓨터를 다루는 가장 기본적인 능력이다. \n",
    "여기에서 설명한 것은 가장 기초적인 셸 명령에 지나지 않는다. 좀 더 다양한 셸 명령이나 셸 스크립트 프로그래밍 방법을 알고 싶다면 다음서적을 참고한다. \n",
    "- \"The Linux Command Line\"(William Shotts 지음, No Starch Press 출판)\n",
    "이 책은 다음 웹 사이트에서 무료로 영문판 pdf 파일을 내려받을 수 있다.\n",
    "- <a href=\"https://sourceforge.net/projects/linuxcommand/files/TLCL/17.10/TLCL-17.10.pdf/download\">link</a>\n",
    "\"리눅스 커맨들인 완벽 입문서\"(이종우, 정영신 옮김, 비제이퍼블릭 출판)라는 한글 번역서도 있다."
   ]
  },
  {
   "cell_type": "markdown",
   "metadata": {},
   "source": [
    "# 도커 툴박스\n",
    "<a href=\"https://datascienceschool.net/view-notebook/22cc3845d45f4dc7b27828294fce3c93/\">LINK</a>"
   ]
  },
  {
   "cell_type": "markdown",
   "metadata": {},
   "source": [
    "도커를 사용하면 데이터 분석에 필요한 각종 프로그램 설치나 환경 설정을 일일이 직접 할 필요 없이 한번에 갖출 수 있다. 도커는 리눅스에서만 사용가능한 가상화 컨테이너이다. 따라서 윈도우나 맥os를 사용하는 경우에는 오라클 버추얼박스(VirtualBox) 등의 저수준 가상화 소프트웨어로 리눅스 운영체제를 가진 가상 컴퓨터를 만들어야지만 도커를 쓸 수 있다. "
   ]
  },
  {
   "cell_type": "markdown",
   "metadata": {
    "collapsed": true
   },
   "source": [
    "## 도커 툴박스 설치 준비\n",
    "도커 툴박스는 윈도우나 맥 os 에서 버추얼박스와 부팅요 OS, 도커 서비스 등을 한꺼번에 설치하여 도커를 쉽게 사용할 수 있도록 해주는 도구이다. 도커 툴박스의 설치 방법은 다음과 같다. "
   ]
  },
  {
   "cell_type": "markdown",
   "metadata": {
    "collapsed": true
   },
   "source": [
    "### 하드웨어 사양\n",
    "도커 툴박스를 설치하고 이 책에서 제공하는 datascienceschool/rpython 이미지를 실행하려면 다음과 같은 하드웨어 사양이 필요하다. \n",
    "- 64비트 웬도우 or OS X 운영체제\n",
    "- 4GB 이상의 메모리\n",
    "- 20GB 이상의 저장 공간 (홈 디렉토리가 있는 C드라이브)"
   ]
  },
  {
   "cell_type": "markdown",
   "metadata": {
    "collapsed": true
   },
   "source": [
    "### 하드웨어 가상화를 위한 BIOS 설정\n",
    "도커 툴박스의 버추얼박스를 사용하려면 우선 컴퓨터 하드웨어가 가상화를 지원하도록 BIOS를 설정하여야 한다. 만약 뒤에 나오는 지시에 따라 도커 툴박스를 설치했는데 다음과 비슷한 메시지가 출력된다면 BIOS 설정이 제대로 되지 않은 것이다. \n",
    "\n",
    "- VT-x/AMD-V 하드웨어 가속 기능이 활성화되었지만, 현재 작동하지 않습니다. 64비트 게스트 운영 체제에서 64비트 CPU를 인식할 수 없어서 부팅할 수 없습니다. 컴퓨터 바이오스에서 VT-x/AMD-V를 활성화했는지 확인해 보십시오.\n",
    "\n",
    "\n",
    "이 때는 컴퓨터를 재부팅하여 BIOS 설정화면으로 들어간 뒤, CPU 등의 항목에서 다음 항목들을 Enable 한다. BIOS에 따라 세부적인 항목 이름은 다를 수 있다. \n",
    "- Virtualization\n",
    "- Secure Virtualization\n",
    "- Vt-d"
   ]
  },
  {
   "cell_type": "markdown",
   "metadata": {},
   "source": [
    "### 도커 툴박스 다운로드\n",
    "- https://www.docker.com/products/docker-toolbox"
   ]
  },
  {
   "cell_type": "markdown",
   "metadata": {},
   "source": [
    "### Docker Toolbox 설치\n",
    "다운받은 파일 설치, default로 설치진행\n",
    "단, host 컴퓨터에 git이 깔려있지 않다면 'Select Components' 단계에서 [Git for Windows] 항목을 체크해야한다! (왜?..)"
   ]
  },
  {
   "cell_type": "markdown",
   "metadata": {
    "collapsed": true
   },
   "source": [
    "### 도커 툴박스 설치 확인\n",
    "[시작 -> 프로그램 -> Docker]에 다음파일이 있는지 확인\n",
    "- Docker Quickstart Terminal\n",
    "- Kitematic (Alpha)\n",
    "여기에 나타나지 않지만 Oracle VirtualBox도 설치된다. "
   ]
  },
  {
   "cell_type": "markdown",
   "metadata": {
    "collapsed": true
   },
   "source": [
    "### 가상머신 생성\n",
    "도커 툴박스는 설치했지만 아직 도커를 사용할 수 있는 단계는 아니다. 도커는 리눅스에서만 실행할 수 있는 컨테이너 서비스이므로 리눅스 운영체제가 깔려 있는 가상머신(가상 컴퓨터)이 필요한데, 아직 가상머신이 설치되지 않았기 때문이다.\n",
    "\n",
    "시작 메뉴에서 \"Docker Quickstart Terminal(Docker Terminal)\"을 선택하여 실행하면 다음과 같이 가상머신을 자동으로 생성해 준다. 가상머신을 생성하는 작업은 최초 한 번만 실행되며 컴퓨터의 성능에 따라 몇 분 가냥 걸릴 수 있다. 일단 가상머신이 생성된 다음에는 도커 터미널을 실행해도 기존의 가상머신을 가동하기만 하고 다시 생성하지는 않으므로 최초 생성 시보다는 빠르게 실행된다. \n",
    "\n",
    "가상머신이 생성되면 다음처럼 도커를 뜻하는 고래 모양의 그림과 함께 도커 터미널이 실행된다. \n",
    "\n",
    "**이 화면에 나타난 IP주소를 꼭 기억해 놓아야 한다.** Oracle VirtualBox는 NAT(Network Address Translation)와 사설 IP주소를 사용하여 호스트 컴퓨터(윈도우)와 게스트 가상 머신(리눅스)을 연결하는데, 도커 터미널을 실행할 때 나타나는 192.168.99.100이 라는 사설 IP 주소가 게스트 가상 머신의 주소가 된다. 가상 머신을 두 대 이상 생성하지 않았다면 기본적으로 사설 IP 주소는 192.168.99.100이 된다. \n",
    "\n",
    "도커 터미널을 사용할 때는 이 주소를 환경변수로 저장해 놓았기 때문에 신경쓰지 않고 사용할 수 있지만, putty 등의 다른 방법으로 가상 머신을 연결하거나 가상 머신에서 작동하는 주피터 노트북(Jupyter notebook)을 웹 브라우저에서 실행할 때는 이 사설IP 주소를 사용해야 하므로 주의하자!! "
   ]
  },
  {
   "cell_type": "markdown",
   "metadata": {
    "collapsed": true
   },
   "source": [
    "### 도커 동작 확인\n",
    "이 상태에서 도커가 정상적으로 동작하는지 확인하려면, \"docker\" 라는 명령어를 입력한다.\n",
    "\n",
    "Oracle VirtualBox 확인 <br>\n",
    "도커 터미널을 실행하면 가상머신이 생성되고 가동된다고 하였는데, Oracle VirtualBox에서 실제로 이를 확인할 수 있다. <br> \n",
    "가상머신에서 default라는 이름의 가상머신이 동작하고 있음을 확인할 수 있다. "
   ]
  },
  {
   "cell_type": "markdown",
   "metadata": {
    "collapsed": true
   },
   "source": [
    "### 설치 문제 해결\n",
    "도커를 설치하고 도커 터미널을 실행한 다음, 오류 메시지가 나타나거나 docker 명령을 인식하지 못할 때는 다음과 같은 사항을 순서대로 조치해본다. \n",
    "1. 도커 터미널 창을 닫고 다시 실행해 본다. \n",
    "2. 컴퓨터에 설치된 백신/멀웨어(Malware) 탐지 프로그램 혹은 방화벽을 끄고 도커 터미널을 다시 실행해 본다.\n",
    "3. Oracle VirtualBox에서 default 가상 머신을 \"모든 파일 완전 삭제\"한 후에 다시 도커 터미널을 실행해 본다.\n",
    "4. 도커 툴박스를 완전 삭제한 후 시스템을 재부팅하여 도커 터미널을 실행해 본다."
   ]
  },
  {
   "cell_type": "markdown",
   "metadata": {
    "collapsed": true
   },
   "source": [
    "# 4-2. 도커 툴박스"
   ]
  },
  {
   "cell_type": "code",
   "execution_count": null,
   "metadata": {
    "collapsed": true
   },
   "outputs": [],
   "source": []
  },
  {
   "cell_type": "markdown",
   "metadata": {
    "collapsed": true
   },
   "source": [
    "# 4-3. 도커 가상 머신 삭제와 재생성"
   ]
  },
  {
   "cell_type": "markdown",
   "metadata": {
    "collapsed": true
   },
   "source": [
    "# 4-4. 도커 이미지 설치 및 실행"
   ]
  },
  {
   "cell_type": "markdown",
   "metadata": {
    "collapsed": true
   },
   "source": [
    "# 4-5. 도커 초간단 사용법"
   ]
  },
  {
   "cell_type": "markdown",
   "metadata": {
    "collapsed": true
   },
   "source": [
    "# 4-6. 도커 컨테이너와 파일을 공유하기"
   ]
  },
  {
   "cell_type": "code",
   "execution_count": null,
   "metadata": {
    "collapsed": true
   },
   "outputs": [],
   "source": []
  },
  {
   "cell_type": "code",
   "execution_count": null,
   "metadata": {
    "collapsed": true
   },
   "outputs": [],
   "source": []
  }
 ],
 "metadata": {
  "kernelspec": {
   "display_name": "Python 3",
   "language": "python",
   "name": "python3"
  },
  "language_info": {
   "codemirror_mode": {
    "name": "ipython",
    "version": 3
   },
   "file_extension": ".py",
   "mimetype": "text/x-python",
   "name": "python",
   "nbconvert_exporter": "python",
   "pygments_lexer": "ipython3",
   "version": "3.6.3"
  }
 },
 "nbformat": 4,
 "nbformat_minor": 2
}
