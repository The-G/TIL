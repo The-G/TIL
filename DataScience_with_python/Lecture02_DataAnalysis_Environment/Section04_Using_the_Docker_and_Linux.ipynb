{
 "cells": [
  {
   "cell_type": "markdown",
   "metadata": {},
   "source": [
    "# 셸, 터미널, 콘솔, 프롬프트"
   ]
  },
  {
   "cell_type": "markdown",
   "metadata": {},
   "source": [
    "본격적인 프로그래밍을 시작하기 전에 반드시 알아야 하는 것이 셸(shell)과 터미널(terminal), 그리고 콘솔(console)이라는 용어이다. 윈도우에서는 커맨드 프롬프트 라인(command prompt line), 혹은 줄여서 간단히 프롬프트라고도 부르고 우리말로 번역하여 명령 줄이라고도 한다. "
   ]
  },
  {
   "cell_type": "markdown",
   "metadata": {},
   "source": [
    "## 셸 시작하기"
   ]
  },
  {
   "cell_type": "markdown",
   "metadata": {},
   "source": [
    "셸을 사용하는 것은 모든 컴퓨터 사용의 가장 기초이다. 앞으로 여러가지 데이터 분석을 수행할 때마다 셸을 자주 사용하게 될 것이다. 따라서 자신이 사용하는 컴퓨터 운영체제에서 셸을 시작하는 방법과 어떤 셸 명령어를 지원하는지 잘 알고 있어야 한다. \n",
    "- 윈도우즈 에서 셸 시작하기\n",
    "- 맥 OS X 에서 셸 시작하기"
   ]
  },
  {
   "cell_type": "markdown",
   "metadata": {},
   "source": [
    "## 프롬프트\n",
    "셸 화면에서는 항상 새로운 줄이 시작할 때 마다 무언가 글씨가 출력되어 있다. 가장 일반적으로 나오는 것이 $(달러표시) 기호이다. 그리고 $ 기호 앞에 사용자 이름이나 컴퓨터 이름, 혹은 현재 디렉터리 위치 등 다른 글자들이 있을 수도 있다. \n",
    "\n",
    "앞서 그림 2-2에서는 dockeruser@7e2af2c6d:~$ 라는 글자가 프롬프트이다. 프롬프트(prompt)는 컴퓨터의 현재 상태 등을 보여주는 동시에 셸이 사용자의 명령을 받을 준비가 되었다는 것을 알려준다. 프롬프트가 나오면 사용자는 키보드로 명령을 입력할 수 있다. \n",
    "\n",
    "참고로 이 책에서는 셸 명령 예제를 보여줄 때 프롬프트까지 포함하여 보여주지만, 독자 여러분이 예제를 직접 작성할 때는 프롬프트 부분을 생략하고 작성해야 한다. 그리고 셸, 터미널, 콘솔이라는 의미도 프롬프트라는 말을 쓰기도 하므로 주의해야 한다. "
   ]
  },
  {
   "cell_type": "markdown",
   "metadata": {},
   "source": [
    "## 셸 명령\n",
    "방금 셸과 터미널/콘솔은 각각의 의미가 다르다고 했는데 정확하게 구분하여 말하면 다음과 같다.\n",
    "- 셸 : 사용자가 글자를 입력하여 컴퓨터에 명령할 수 있도록 하는 프로그램\n",
    "- 터미널/콘솔 : 셸을 실행하기 위해 글자 입력을 받아 컴퓨터에 전달하거나 컴퓨터의 출력을 글자 화면에 쓰는 프로그램\n",
    "따라서 셸과 터미널/콘솔은 항상 같이 실행할 수 밖에 없으므로 보통 같은 의미로 사용된다. \n",
    "\n",
    "셸 화면에서는 컴퓨터에 글자를 입력하여 간단한 명령을 수행할 수 있다. 셸 명령은 주로 파일이나 폴터(디렉터리)를 관맇기 위한 명령이다. 윈도우의 셸 명령과 맥/리눅스의 셸 명령은 비슷하지만 약간 차이가 있다. \n"
   ]
  },
  {
   "cell_type": "markdown",
   "metadata": {},
   "source": [
    "## 기본 셸 명령"
   ]
  },
  {
   "cell_type": "markdown",
   "metadata": {},
   "source": [
    "## 참고 문헌\n",
    "셸 명령을 잘 사용하는 것은 컴퓨터를 다루는 가장 기본적인 능력이다. \n",
    "여기에서 설명한 것은 가장 기초적인 셸 명령에 지나지 않는다. 좀 더 다양한 셸 명령이나 셸 스크립트 프로그래밍 방법을 알고 싶다면 다음서적을 참고한다. \n",
    "- \"The Linux Command Line\"(William Shotts 지음, No Starch Press 출판)\n",
    "이 책은 다음 웹 사이트에서 무료로 영문판 pdf 파일을 내려받을 수 있다.\n",
    "- <a href=\"https://sourceforge.net/projects/linuxcommand/files/TLCL/17.10/TLCL-17.10.pdf/download\">link</a>\n",
    "\"리눅스 커맨들인 완벽 입문서\"(이종우, 정영신 옮김, 비제이퍼블릭 출판)라는 한글 번역서도 있다."
   ]
  },
  {
   "cell_type": "markdown",
   "metadata": {},
   "source": [
    "# 도커 툴박스"
   ]
  },
  {
   "cell_type": "markdown",
   "metadata": {},
   "source": [
    "도커를 사용하면 데이터 분석에 필요한 각종 프로그램 설치나 환경 설정을 일일이 직접 할 필요 없이 한번에 갖출 수 있다. 도커는 리눅스에서만 사용가능한 가상화 컨테이너이다. 따라서 윈도우나 맥os를 사용하는 경우에는 오라클 버추얼박스(VirtualBox) 등의 저수준 가상화 소프트웨어로 리눅스 운영체제를 가진 가상 컴퓨터를 만들어야지만 도커를 쓸 수 있다. "
   ]
  },
  {
   "cell_type": "code",
   "execution_count": null,
   "metadata": {
    "collapsed": true
   },
   "outputs": [],
   "source": [
    "\n",
    "\n",
    "\n",
    "\n"
   ]
  },
  {
   "cell_type": "code",
   "execution_count": null,
   "metadata": {
    "collapsed": true
   },
   "outputs": [],
   "source": []
  },
  {
   "cell_type": "code",
   "execution_count": null,
   "metadata": {
    "collapsed": true
   },
   "outputs": [],
   "source": []
  },
  {
   "cell_type": "code",
   "execution_count": null,
   "metadata": {
    "collapsed": true
   },
   "outputs": [],
   "source": []
  },
  {
   "cell_type": "code",
   "execution_count": null,
   "metadata": {
    "collapsed": true
   },
   "outputs": [],
   "source": []
  },
  {
   "cell_type": "code",
   "execution_count": null,
   "metadata": {
    "collapsed": true
   },
   "outputs": [],
   "source": []
  },
  {
   "cell_type": "code",
   "execution_count": null,
   "metadata": {
    "collapsed": true
   },
   "outputs": [],
   "source": []
  },
  {
   "cell_type": "code",
   "execution_count": null,
   "metadata": {
    "collapsed": true
   },
   "outputs": [],
   "source": []
  },
  {
   "cell_type": "code",
   "execution_count": null,
   "metadata": {
    "collapsed": true
   },
   "outputs": [],
   "source": []
  },
  {
   "cell_type": "code",
   "execution_count": null,
   "metadata": {
    "collapsed": true
   },
   "outputs": [],
   "source": []
  },
  {
   "cell_type": "code",
   "execution_count": null,
   "metadata": {
    "collapsed": true
   },
   "outputs": [],
   "source": []
  },
  {
   "cell_type": "code",
   "execution_count": null,
   "metadata": {
    "collapsed": true
   },
   "outputs": [],
   "source": []
  },
  {
   "cell_type": "code",
   "execution_count": null,
   "metadata": {
    "collapsed": true
   },
   "outputs": [],
   "source": []
  },
  {
   "cell_type": "code",
   "execution_count": null,
   "metadata": {
    "collapsed": true
   },
   "outputs": [],
   "source": []
  },
  {
   "cell_type": "code",
   "execution_count": null,
   "metadata": {
    "collapsed": true
   },
   "outputs": [],
   "source": []
  },
  {
   "cell_type": "code",
   "execution_count": null,
   "metadata": {
    "collapsed": true
   },
   "outputs": [],
   "source": []
  },
  {
   "cell_type": "code",
   "execution_count": null,
   "metadata": {
    "collapsed": true
   },
   "outputs": [],
   "source": []
  },
  {
   "cell_type": "code",
   "execution_count": null,
   "metadata": {
    "collapsed": true
   },
   "outputs": [],
   "source": []
  },
  {
   "cell_type": "code",
   "execution_count": null,
   "metadata": {
    "collapsed": true
   },
   "outputs": [],
   "source": []
  },
  {
   "cell_type": "code",
   "execution_count": null,
   "metadata": {
    "collapsed": true
   },
   "outputs": [],
   "source": []
  },
  {
   "cell_type": "code",
   "execution_count": null,
   "metadata": {
    "collapsed": true
   },
   "outputs": [],
   "source": []
  },
  {
   "cell_type": "code",
   "execution_count": null,
   "metadata": {
    "collapsed": true
   },
   "outputs": [],
   "source": []
  },
  {
   "cell_type": "code",
   "execution_count": null,
   "metadata": {
    "collapsed": true
   },
   "outputs": [],
   "source": []
  }
 ],
 "metadata": {
  "kernelspec": {
   "display_name": "Python 3",
   "language": "python",
   "name": "python3"
  },
  "language_info": {
   "codemirror_mode": {
    "name": "ipython",
    "version": 3
   },
   "file_extension": ".py",
   "mimetype": "text/x-python",
   "name": "python",
   "nbconvert_exporter": "python",
   "pygments_lexer": "ipython3",
   "version": "3.6.3"
  }
 },
 "nbformat": 4,
 "nbformat_minor": 2
}
